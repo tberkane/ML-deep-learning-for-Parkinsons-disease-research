{
 "cells": [
  {
   "cell_type": "code",
   "execution_count": 1,
   "metadata": {
    "cell_id": "00000-0cbdb4a7-8fc8-4afb-91f0-94aea85cb8c9",
    "deepnote_cell_type": "code",
    "deepnote_to_be_reexecuted": false,
    "execution_millis": 8602,
    "execution_start": 1640266559454,
    "source_hash": "53138ffb"
   },
   "outputs": [],
   "source": [
    "# Useful starting lines\n",
    "%matplotlib inline\n",
    "import numpy as np\n",
    "import matplotlib.pyplot as plt\n",
    "#The usual collection of indispensables \n",
    "import numpy as np\n",
    "import matplotlib.pyplot as plt\n",
    "import datetime\n",
    "from tqdm import tqdm\n",
    "import scipy.fftpack\n",
    "import torch\n",
    "import torch.nn as nn\n",
    "from torch.autograd import Variable\n",
    "from sklearn.neural_network import MLPRegressor\n",
    "from sklearn.metrics import mean_squared_error,r2_score, mean_absolute_error, explained_variance_score, max_error\n",
    "from sklearn.model_selection import cross_val_score, train_test_split"
   ]
  },
  {
   "cell_type": "code",
   "execution_count": 2,
   "metadata": {
    "cell_id": "00001-53cb0e9c-7002-4b3e-8b7a-c2413f60a476",
    "deepnote_cell_type": "code",
    "deepnote_to_be_reexecuted": false,
    "execution_millis": 737,
    "execution_start": 1640266568076,
    "source_hash": "ed72612c"
   },
   "outputs": [
    {
     "name": "stdout",
     "output_type": "stream",
     "text": [
      "(540, 133) (1170, 133)\n"
     ]
    }
   ],
   "source": [
    "from helpers import sample_data, load_data\n",
    "\n",
    "# load data.\n",
    "data_oligo_1 = np.delete(load_data(\"data/data-oligo/011021_SFL_SYN211_Oligo_1uM_Rawdata_270spectralcolumns.csv\"), 0, 1).T\n",
    "data_oligo_1 = data_oligo_1[data_oligo_1[:, 0] != -999, :]\n",
    "data_oligo_2 = np.delete(load_data(\"data/data-oligo/051021_SFL_SYN211_Oligo_5uM_rawdata_270spectralcolumns.csv\"), 0, 1).T\n",
    "data_oligo_2 = data_oligo_2[data_oligo_2[:, 0] != -999, :]\n",
    "data_oligo = np.append(data_oligo_1, data_oligo_2, axis = 0)\n",
    "y_oligo = np.expand_dims(np.zeros(len(data_oligo)), axis=1)\n",
    "\n",
    "data_PFF1 = np.delete(load_data(\"data/data-pff/191121_G80_AInII_SYn211_AsynPFF_5microM_rawdata_290spectracolumns.csv\"), 0, 1).T\n",
    "data_PFF1 = data_PFF1[data_PFF1[:, 0] != -999, :]\n",
    "data_PFF2 = np.delete(load_data(\"data/data-pff/220421_G80_AInII_SYn211_AsynPFF_20microM_880_spectralcolumns.csv\"), 0, 1).T\n",
    "data_PFF2 = data_PFF2[data_PFF2[:, 0] != -999, :]\n",
    "data_PFF =  np.append(data_PFF1, data_PFF2, axis = 0)\n",
    "y_PFF = np.expand_dims(np.ones(len(data_PFF)), axis=1)\n",
    "\n",
    "print(data_oligo.shape, data_PFF.shape)"
   ]
  },
  {
   "cell_type": "code",
   "execution_count": 3,
   "metadata": {
    "cell_id": "00002-dc017ff8-e611-4d08-8aeb-4d07557319f6",
    "deepnote_cell_type": "code",
    "deepnote_to_be_reexecuted": false,
    "execution_millis": 19,
    "execution_start": 1640266568831,
    "source_hash": "2b58a87a"
   },
   "outputs": [],
   "source": [
    "#Build X and y by concatenating the different dataset (after sampling the same number of datapoints for each dataset)\n",
    "np.random.seed(2)\n",
    "X = np.concatenate((data_oligo[np.random.randint(data_oligo.shape[0], size=540),:], data_PFF[np.random.randint(data_PFF.shape[0], size=540),:]), axis = 0)\n",
    "y = np.concatenate((y_oligo[np.random.randint(y_oligo.shape[0], size=540),:], y_PFF[np.random.randint(y_PFF.shape[0], size=540),:]), axis = 0)\n",
    "\n",
    "# Train and test\n",
    "x_train, _, y_train, _ = train_test_split(X, y, random_state=42)\n"
   ]
  },
  {
   "cell_type": "code",
   "execution_count": 4,
   "metadata": {
    "cell_id": "00002-29a302fa-c2aa-4d57-b09c-e571c3028851",
    "deepnote_cell_type": "code",
    "deepnote_to_be_reexecuted": false,
    "execution_millis": 24,
    "execution_start": 1640266568863,
    "source_hash": "9eac2103"
   },
   "outputs": [],
   "source": [
    "def train(features, labels, model, lossfunc, optimizer, num_epoch):\n",
    "\n",
    "    for epoch in range(num_epoch):\n",
    "        inputs = torch.from_numpy(features)\n",
    "        targets = torch.from_numpy(labels)\n",
    "\n",
    "        outputs = model(inputs.float())\n",
    "        loss = lossfunc(outputs, targets.float())\n",
    "        \n",
    "        optimizer.zero_grad()  \n",
    "        loss.backward()\n",
    "        optimizer.step()\n",
    "        \n",
    "        if epoch % 10 == 0:\n",
    "            print ('Epoch [%d/%d], Loss: %.4f' %(epoch+1, num_epoch, loss.item()))\n",
    "        \n",
    "        \n",
    "def visualize(x_train, y_train, model):\n",
    "\n",
    "    predicted = model(torch.from_numpy(x_train).float()).data.numpy()\n",
    "    predicted = (predicted >= 1/2).astype(int)\n",
    "    order = np.argsort(x_train, axis=0)\n",
    "    missed = np.absolute(y_te - output)\n",
    "    plt.plot(missed[missed > 0], 'ro', label='Misclassified data')\n",
    "    plt.legend()\n",
    "    plt.show()"
   ]
  },
  {
   "cell_type": "markdown",
   "metadata": {
    "cell_id": "00003-e705930e-52fa-499a-8bcb-1c1b65ab807a",
    "deepnote_cell_type": "markdown"
   },
   "source": [
    "## MLP"
   ]
  },
  {
   "cell_type": "code",
   "execution_count": 5,
   "metadata": {
    "cell_id": "00004-d12eaf1e-334f-436a-9dfe-2208e11f2929",
    "deepnote_cell_type": "code",
    "deepnote_to_be_reexecuted": false,
    "execution_millis": 32,
    "execution_start": 1640266568903,
    "source_hash": "a0fc319b"
   },
   "outputs": [],
   "source": [
    "class MLP(nn.Module):\n",
    "    def __init__(self, hidden_size):\n",
    "        super(MLP, self).__init__()\n",
    "        self.fc1 = nn.Linear(133, hidden_size)\n",
    "        self.activation_fn1 = nn.Sigmoid() \n",
    "        self.fc2 = nn.Linear(hidden_size, hidden_size)\n",
    "        self.activation_fn2 = nn.Sigmoid() \n",
    "        self.fc3 = nn.Linear(hidden_size, 1)\n",
    "        self.activation_fn3 = nn.Sigmoid() \n",
    "    \n",
    "    def forward(self, x):\n",
    "        out1 = self.fc2(self.activation_fn1(self.fc1(x)))\n",
    "        out2 = self.fc3(self.activation_fn2(out1))\n",
    "        return self.activation_fn3(out2)\n",
    "    \n",
    "hidden_size = 10\n",
    "learning_rate = 1e-1\n",
    "lossfunc = nn.MSELoss()\n",
    "\n",
    "model = MLP(hidden_size=hidden_size)\n",
    "\n",
    "optimizer = torch.optim.Adamax(model.parameters(), lr=learning_rate)"
   ]
  },
  {
   "cell_type": "code",
   "execution_count": 6,
   "metadata": {
    "cell_id": "00005-4bbc032c-a507-44c3-89fe-5974ab66d574",
    "deepnote_cell_type": "code",
    "deepnote_to_be_reexecuted": false,
    "execution_millis": 15,
    "execution_start": 1640266568948,
    "source_hash": "4e41e5d8"
   },
   "outputs": [],
   "source": [
    "def build_k_indices(y, k_fold):\n",
    "    \n",
    "    num_row = y.shape[0]\n",
    "    interval = int(num_row / k_fold)\n",
    "    np.random.seed()\n",
    "    indices = np.random.permutation(num_row)\n",
    "    k_indices = [indices[k * interval: (k + 1) * interval] for k in range(k_fold)]\n",
    "    return np.array(k_indices)"
   ]
  },
  {
   "cell_type": "code",
   "execution_count": 7,
   "metadata": {
    "cell_id": "00006-1d698c65-1b27-452f-874a-eff9c507c907",
    "deepnote_cell_type": "code",
    "deepnote_output_heights": [
     null,
     250,
     null,
     250,
     null,
     250,
     null,
     250
    ],
    "deepnote_to_be_reexecuted": false,
    "execution_millis": 17270,
    "execution_start": 1640266568978,
    "source_hash": "e415d901"
   },
   "outputs": [
    {
     "name": "stdout",
     "output_type": "stream",
     "text": [
      "Epoch [1/500], Loss: 0.2700\n",
      "Epoch [11/500], Loss: 0.2349\n",
      "Epoch [21/500], Loss: 0.2050\n",
      "Epoch [31/500], Loss: 0.1770\n",
      "Epoch [41/500], Loss: 0.1118\n",
      "Epoch [51/500], Loss: 0.0662\n",
      "Epoch [61/500], Loss: 0.0485\n",
      "Epoch [71/500], Loss: 0.0414\n",
      "Epoch [81/500], Loss: 0.0349\n",
      "Epoch [91/500], Loss: 0.0284\n",
      "Epoch [101/500], Loss: 0.0239\n",
      "Epoch [111/500], Loss: 0.0205\n",
      "Epoch [121/500], Loss: 0.0177\n",
      "Epoch [131/500], Loss: 0.0162\n",
      "Epoch [141/500], Loss: 0.0150\n",
      "Epoch [151/500], Loss: 0.0130\n",
      "Epoch [161/500], Loss: 0.0084\n",
      "Epoch [171/500], Loss: 0.0051\n",
      "Epoch [181/500], Loss: 0.0034\n",
      "Epoch [191/500], Loss: 0.0025\n",
      "Epoch [201/500], Loss: 0.0020\n",
      "Epoch [211/500], Loss: 0.0017\n",
      "Epoch [221/500], Loss: 0.0015\n",
      "Epoch [231/500], Loss: 0.0014\n",
      "Epoch [241/500], Loss: 0.0012\n",
      "Epoch [251/500], Loss: 0.0011\n",
      "Epoch [261/500], Loss: 0.0009\n",
      "Epoch [271/500], Loss: 0.0008\n",
      "Epoch [281/500], Loss: 0.0006\n",
      "Epoch [291/500], Loss: 0.0005\n",
      "Epoch [301/500], Loss: 0.0004\n",
      "Epoch [311/500], Loss: 0.0003\n",
      "Epoch [321/500], Loss: 0.0003\n",
      "Epoch [331/500], Loss: 0.0003\n",
      "Epoch [341/500], Loss: 0.0003\n",
      "Epoch [351/500], Loss: 0.0002\n",
      "Epoch [361/500], Loss: 0.0002\n",
      "Epoch [371/500], Loss: 0.0002\n",
      "Epoch [381/500], Loss: 0.0002\n",
      "Epoch [391/500], Loss: 0.0002\n",
      "Epoch [401/500], Loss: 0.0002\n",
      "Epoch [411/500], Loss: 0.0002\n",
      "Epoch [421/500], Loss: 0.0002\n",
      "Epoch [431/500], Loss: 0.0002\n",
      "Epoch [441/500], Loss: 0.0001\n",
      "Epoch [451/500], Loss: 0.0001\n",
      "Epoch [461/500], Loss: 0.0001\n",
      "Epoch [471/500], Loss: 0.0001\n",
      "Epoch [481/500], Loss: 0.0001\n",
      "Epoch [491/500], Loss: 0.0001\n",
      "Accuracy: 96.03960396039604 %\n"
     ]
    },
    {
     "data": {
      "image/png": "[encoded data removed]",
      "text/plain": [
       "<Figure size 432x288 with 1 Axes>"
      ]
     },
     "metadata": {
      "image/png": {
       "height": 248,
       "width": 378
      },
      "needs_background": "light"
     },
     "output_type": "display_data"
    },
    {
     "name": "stdout",
     "output_type": "stream",
     "text": [
      "Epoch [1/500], Loss: 0.0128\n",
      "Epoch [11/500], Loss: 0.0093\n",
      "Epoch [21/500], Loss: 0.0061\n",
      "Epoch [31/500], Loss: 0.0054\n",
      "Epoch [41/500], Loss: 0.0050\n",
      "Epoch [51/500], Loss: 0.0039\n",
      "Epoch [61/500], Loss: 0.0022\n",
      "Epoch [71/500], Loss: 0.0020\n",
      "Epoch [81/500], Loss: 0.0019\n",
      "Epoch [91/500], Loss: 0.0018\n",
      "Epoch [101/500], Loss: 0.0018\n",
      "Epoch [111/500], Loss: 0.0017\n",
      "Epoch [121/500], Loss: 0.0017\n",
      "Epoch [131/500], Loss: 0.0012\n",
      "Epoch [141/500], Loss: 0.0004\n",
      "Epoch [151/500], Loss: 0.0002\n",
      "Epoch [161/500], Loss: 0.0002\n",
      "Epoch [171/500], Loss: 0.0001\n",
      "Epoch [181/500], Loss: 0.0001\n",
      "Epoch [191/500], Loss: 0.0001\n",
      "Epoch [201/500], Loss: 0.0001\n",
      "Epoch [211/500], Loss: 0.0001\n",
      "Epoch [221/500], Loss: 0.0001\n",
      "Epoch [231/500], Loss: 0.0001\n",
      "Epoch [241/500], Loss: 0.0001\n",
      "Epoch [251/500], Loss: 0.0001\n",
      "Epoch [261/500], Loss: 0.0001\n",
      "Epoch [271/500], Loss: 0.0001\n",
      "Epoch [281/500], Loss: 0.0001\n",
      "Epoch [291/500], Loss: 0.0001\n",
      "Epoch [301/500], Loss: 0.0001\n",
      "Epoch [311/500], Loss: 0.0001\n",
      "Epoch [321/500], Loss: 0.0001\n",
      "Epoch [331/500], Loss: 0.0001\n",
      "Epoch [341/500], Loss: 0.0001\n",
      "Epoch [351/500], Loss: 0.0001\n",
      "Epoch [361/500], Loss: 0.0001\n",
      "Epoch [371/500], Loss: 0.0001\n",
      "Epoch [381/500], Loss: 0.0001\n",
      "Epoch [391/500], Loss: 0.0001\n",
      "Epoch [401/500], Loss: 0.0001\n",
      "Epoch [411/500], Loss: 0.0001\n",
      "Epoch [421/500], Loss: 0.0001\n",
      "Epoch [431/500], Loss: 0.0001\n",
      "Epoch [441/500], Loss: 0.0001\n",
      "Epoch [451/500], Loss: 0.0000\n",
      "Epoch [461/500], Loss: 0.0000\n",
      "Epoch [471/500], Loss: 0.0000\n",
      "Epoch [481/500], Loss: 0.0000\n",
      "Epoch [491/500], Loss: 0.0000\n",
      "Accuracy: 98.51485148514851 %\n"
     ]
    },
    {
     "data": {
      "image/png": "[encoded data removed]",
      "text/plain": [
       "<Figure size 432x288 with 1 Axes>"
      ]
     },
     "metadata": {
      "image/png": {
       "height": 248,
       "width": 378
      },
      "needs_background": "light"
     },
     "output_type": "display_data"
    },
    {
     "name": "stdout",
     "output_type": "stream",
     "text": [
      "Epoch [1/500], Loss: 0.0040\n",
      "Epoch [11/500], Loss: 0.0003\n",
      "Epoch [21/500], Loss: 0.0002\n",
      "Epoch [31/500], Loss: 0.0001\n",
      "Epoch [41/500], Loss: 0.0001\n",
      "Epoch [51/500], Loss: 0.0001\n",
      "Epoch [61/500], Loss: 0.0001\n",
      "Epoch [71/500], Loss: 0.0001\n",
      "Epoch [81/500], Loss: 0.0001\n",
      "Epoch [91/500], Loss: 0.0001\n",
      "Epoch [101/500], Loss: 0.0001\n",
      "Epoch [111/500], Loss: 0.0001\n",
      "Epoch [121/500], Loss: 0.0001\n",
      "Epoch [131/500], Loss: 0.0000\n",
      "Epoch [141/500], Loss: 0.0000\n",
      "Epoch [151/500], Loss: 0.0000\n",
      "Epoch [161/500], Loss: 0.0000\n",
      "Epoch [171/500], Loss: 0.0000\n",
      "Epoch [181/500], Loss: 0.0000\n",
      "Epoch [191/500], Loss: 0.0000\n",
      "Epoch [201/500], Loss: 0.0000\n",
      "Epoch [211/500], Loss: 0.0000\n",
      "Epoch [221/500], Loss: 0.0000\n",
      "Epoch [231/500], Loss: 0.0000\n",
      "Epoch [241/500], Loss: 0.0000\n",
      "Epoch [251/500], Loss: 0.0000\n",
      "Epoch [261/500], Loss: 0.0000\n",
      "Epoch [271/500], Loss: 0.0000\n",
      "Epoch [281/500], Loss: 0.0000\n",
      "Epoch [291/500], Loss: 0.0000\n",
      "Epoch [301/500], Loss: 0.0000\n",
      "Epoch [311/500], Loss: 0.0000\n",
      "Epoch [321/500], Loss: 0.0000\n",
      "Epoch [331/500], Loss: 0.0000\n",
      "Epoch [341/500], Loss: 0.0000\n",
      "Epoch [351/500], Loss: 0.0000\n",
      "Epoch [361/500], Loss: 0.0000\n",
      "Epoch [371/500], Loss: 0.0000\n",
      "Epoch [381/500], Loss: 0.0000\n",
      "Epoch [391/500], Loss: 0.0000\n",
      "Epoch [401/500], Loss: 0.0000\n",
      "Epoch [411/500], Loss: 0.0000\n",
      "Epoch [421/500], Loss: 0.0000\n",
      "Epoch [431/500], Loss: 0.0000\n",
      "Epoch [441/500], Loss: 0.0000\n",
      "Epoch [451/500], Loss: 0.0000\n",
      "Epoch [461/500], Loss: 0.0000\n",
      "Epoch [471/500], Loss: 0.0000\n",
      "Epoch [481/500], Loss: 0.0000\n",
      "Epoch [491/500], Loss: 0.0000\n",
      "Accuracy: 100.0 %\n"
     ]
    },
    {
     "data": {
      "image/png": "[encoded data removed]",
      "text/plain": [
       "<Figure size 432x288 with 1 Axes>"
      ]
     },
     "metadata": {
      "image/png": {
       "height": 248,
       "width": 386
      },
      "needs_background": "light"
     },
     "output_type": "display_data"
    },
    {
     "name": "stdout",
     "output_type": "stream",
     "text": [
      "Epoch [1/500], Loss: 0.0000\n",
      "Epoch [11/500], Loss: 0.0000\n",
      "Epoch [21/500], Loss: 0.0000\n",
      "Epoch [31/500], Loss: 0.0000\n",
      "Epoch [41/500], Loss: 0.0000\n",
      "Epoch [51/500], Loss: 0.0000\n",
      "Epoch [61/500], Loss: 0.0000\n",
      "Epoch [71/500], Loss: 0.0000\n",
      "Epoch [81/500], Loss: 0.0000\n",
      "Epoch [91/500], Loss: 0.0000\n",
      "Epoch [101/500], Loss: 0.0000\n",
      "Epoch [111/500], Loss: 0.0000\n",
      "Epoch [121/500], Loss: 0.0000\n",
      "Epoch [131/500], Loss: 0.0000\n",
      "Epoch [141/500], Loss: 0.0000\n",
      "Epoch [151/500], Loss: 0.0000\n",
      "Epoch [161/500], Loss: 0.0000\n",
      "Epoch [171/500], Loss: 0.0000\n",
      "Epoch [181/500], Loss: 0.0000\n",
      "Epoch [191/500], Loss: 0.0000\n",
      "Epoch [201/500], Loss: 0.0000\n",
      "Epoch [211/500], Loss: 0.0000\n",
      "Epoch [221/500], Loss: 0.0000\n",
      "Epoch [231/500], Loss: 0.0000\n",
      "Epoch [241/500], Loss: 0.0000\n",
      "Epoch [251/500], Loss: 0.0000\n",
      "Epoch [261/500], Loss: 0.0000\n",
      "Epoch [271/500], Loss: 0.0000\n",
      "Epoch [281/500], Loss: 0.0000\n",
      "Epoch [291/500], Loss: 0.0000\n",
      "Epoch [301/500], Loss: 0.0000\n",
      "Epoch [311/500], Loss: 0.0000\n",
      "Epoch [321/500], Loss: 0.0000\n",
      "Epoch [331/500], Loss: 0.0000\n",
      "Epoch [341/500], Loss: 0.0000\n",
      "Epoch [351/500], Loss: 0.0000\n",
      "Epoch [361/500], Loss: 0.0000\n",
      "Epoch [371/500], Loss: 0.0000\n",
      "Epoch [381/500], Loss: 0.0000\n",
      "Epoch [391/500], Loss: 0.0000\n",
      "Epoch [401/500], Loss: 0.0000\n",
      "Epoch [411/500], Loss: 0.0000\n",
      "Epoch [421/500], Loss: 0.0000\n",
      "Epoch [431/500], Loss: 0.0000\n",
      "Epoch [441/500], Loss: 0.0000\n",
      "Epoch [451/500], Loss: 0.0000\n",
      "Epoch [461/500], Loss: 0.0000\n",
      "Epoch [471/500], Loss: 0.0000\n",
      "Epoch [481/500], Loss: 0.0000\n",
      "Epoch [491/500], Loss: 0.0000\n",
      "Accuracy: 100.0 %\n"
     ]
    },
    {
     "data": {
      "image/png": "[encoded data removed]",
      "text/plain": [
       "<Figure size 432x288 with 1 Axes>"
      ]
     },
     "metadata": {
      "image/png": {
       "height": 248,
       "width": 386
      },
      "needs_background": "light"
     },
     "output_type": "display_data"
    }
   ],
   "source": [
    "k_fold = 4\n",
    "lambdas = np.logspace(-4, 0, 30)\n",
    "\n",
    "# split data in k fold\n",
    "k_indices = build_k_indices(y_train, k_fold)\n",
    "\n",
    "# define lists to store the loss of training data and test data\n",
    "rmse_tr = []\n",
    "rmse_te = []\n",
    "for k in range(k_fold):\n",
    "\n",
    "    te_indice = k_indices[k]\n",
    "    tr_indice = k_indices[~(np.arange(k_indices.shape[0]) == k)]\n",
    "    tr_indice = tr_indice.reshape(-1)\n",
    "    y_te = y_train[te_indice]\n",
    "    y_tr = y_train[tr_indice]\n",
    "    x_te = x_train[te_indice]\n",
    "    x_tr = x_train[tr_indice]\n",
    "    \n",
    "    train(features=x_tr,\n",
    "        labels=y_tr,\n",
    "        model=model,\n",
    "        lossfunc=lossfunc,\n",
    "        optimizer=optimizer,\n",
    "        num_epoch=500)\n",
    "\n",
    "    output = model(torch.from_numpy(x_te).float()).data.numpy()\n",
    "    output = (output >= 1/2).astype(int)\n",
    "    missed = np.absolute(y_te - output)\n",
    "    print(\"Accuracy:\", 100 * (len(y_te) - np.count_nonzero(missed)) / len(y_te) , \"%\")\n",
    "    visualize(x_te, y_te, model)\n"
   ]
  },
  {
   "cell_type": "markdown",
   "metadata": {
    "cell_id": "00008-aa18d1e8-5936-4309-a567-62127f30cf74",
    "deepnote_cell_type": "markdown"
   },
   "source": []
  },
  {
   "cell_type": "markdown",
   "metadata": {
    "cell_id": "00009-8e979dbd-23a8-49d0-b322-f39769ceae05",
    "deepnote_cell_type": "markdown"
   },
   "source": []
  },
  {
   "cell_type": "markdown",
   "metadata": {
    "created_in_deepnote_cell": true,
    "deepnote_cell_type": "markdown",
    "tags": []
   },
   "source": [
    "<a style='text-decoration:none;line-height:16px;display:flex;color:#5B5B62;padding:10px;justify-content:end;' href='https://deepnote.com?utm_source=created-in-deepnote-cell&projectId=d66177de-7ea1-46c8-aea6-26d701dd9bc9' target=\"_blank\">\n",
    "<img alt='Created in deepnote.com' style='display:inline;max-height:16px;margin:0px;margin-right:7.5px;' src='data:image/svg+xml;base64,PD94bWwgdmVyc2lvbj0iMS4wIiBlbmNvZGluZz0iVVRGLTgiPz4KPHN2ZyB3aWR0aD0iODBweCIgaGVpZ2h0PSI4MHB4IiB2aWV3Qm94PSIwIDAgODAgODAiIHZlcnNpb249IjEuMSIgeG1sbnM9Imh0dHA6Ly93d3cudzMub3JnLzIwMDAvc3ZnIiB4bWxuczp4bGluaz0iaHR0cDovL3d3dy53My5vcmcvMTk5OS94bGluayI+CiAgICA8IS0tIEdlbmVyYXRvcjogU2tldGNoIDU0LjEgKDc2NDkwKSAtIGh0dHBzOi8vc2tldGNoYXBwLmNvbSAtLT4KICAgIDx0aXRsZT5Hcm91cCAzPC90aXRsZT4KICAgIDxkZXNjPkNyZWF0ZWQgd2l0aCBTa2V0Y2guPC9kZXNjPgogICAgPGcgaWQ9IkxhbmRpbmciIHN0cm9rZT0ibm9uZSIgc3Ryb2tlLXdpZHRoPSIxIiBmaWxsPSJub25lIiBmaWxsLXJ1bGU9ImV2ZW5vZGQiPgogICAgICAgIDxnIGlkPSJBcnRib2FyZCIgdHJhbnNmb3JtPSJ0cmFuc2xhdGUoLTEyMzUuMDAwMDAwLCAtNzkuMDAwMDAwKSI+CiAgICAgICAgICAgIDxnIGlkPSJHcm91cC0zIiB0cmFuc2Zvcm09InRyYW5zbGF0ZSgxMjM1LjAwMDAwMCwgNzkuMDAwMDAwKSI+CiAgICAgICAgICAgICAgICA8cG9seWdvbiBpZD0iUGF0aC0yMCIgZmlsbD0iIzAyNjVCNCIgcG9pbnRzPSIyLjM3NjIzNzYyIDgwIDM4LjA0NzY2NjcgODAgNTcuODIxNzgyMiA3My44MDU3NTkyIDU3LjgyMTc4MjIgMzIuNzU5MjczOSAzOS4xNDAyMjc4IDMxLjY4MzE2ODMiPjwvcG9seWdvbj4KICAgICAgICAgICAgICAgIDxwYXRoIGQ9Ik0zNS4wMDc3MTgsODAgQzQyLjkwNjIwMDcsNzYuNDU0OTM1OCA0Ny41NjQ5MTY3LDcxLjU0MjI2NzEgNDguOTgzODY2LDY1LjI2MTk5MzkgQzUxLjExMjI4OTksNTUuODQxNTg0MiA0MS42NzcxNzk1LDQ5LjIxMjIyODQgMjUuNjIzOTg0Niw0OS4yMTIyMjg0IEMyNS40ODQ5Mjg5LDQ5LjEyNjg0NDggMjkuODI2MTI5Niw0My4yODM4MjQ4IDM4LjY0NzU4NjksMzEuNjgzMTY4MyBMNzIuODcxMjg3MSwzMi41NTQ0MjUgTDY1LjI4MDk3Myw2Ny42NzYzNDIxIEw1MS4xMTIyODk5LDc3LjM3NjE0NCBMMzUuMDA3NzE4LDgwIFoiIGlkPSJQYXRoLTIyIiBmaWxsPSIjMDAyODY4Ij48L3BhdGg+CiAgICAgICAgICAgICAgICA8cGF0aCBkPSJNMCwzNy43MzA0NDA1IEwyNy4xMTQ1MzcsMC4yNTcxMTE0MzYgQzYyLjM3MTUxMjMsLTEuOTkwNzE3MDEgODAsMTAuNTAwMzkyNyA4MCwzNy43MzA0NDA1IEM4MCw2NC45NjA0ODgyIDY0Ljc3NjUwMzgsNzkuMDUwMzQxNCAzNC4zMjk1MTEzLDgwIEM0Ny4wNTUzNDg5LDc3LjU2NzA4MDggNTMuNDE4MjY3Nyw3MC4zMTM2MTAzIDUzLjQxODI2NzcsNTguMjM5NTg4NSBDNTMuNDE4MjY3Nyw0MC4xMjg1NTU3IDM2LjMwMzk1NDQsMzcuNzMwNDQwNSAyNS4yMjc0MTcsMzcuNzMwNDQwNSBDMTcuODQzMDU4NiwzNy43MzA0NDA1IDkuNDMzOTE5NjYsMzcuNzMwNDQwNSAwLDM3LjczMDQ0MDUgWiIgaWQ9IlBhdGgtMTkiIGZpbGw9IiMzNzkzRUYiPjwvcGF0aD4KICAgICAgICAgICAgPC9nPgogICAgICAgIDwvZz4KICAgIDwvZz4KPC9zdmc+' > </img>\n",
    "Created in <span style='font-weight:600;margin-left:4px;'>Deepnote</span></a>"
   ]
  }
 ],
 "metadata": {
  "deepnote": {},
  "deepnote_execution_queue": [],
  "deepnote_notebook_id": "d4a06343-16a0-4cd9-8fd2-2ee7aa0a2707",
  "kernelspec": {
   "display_name": "Python 3 (ipykernel)",
   "language": "python",
   "name": "python3"
  },
  "language_info": {
   "codemirror_mode": {
    "name": "ipython",
    "version": 3
   },
   "file_extension": ".py",
   "mimetype": "text/x-python",
   "name": "python",
   "nbconvert_exporter": "python",
   "pygments_lexer": "ipython3",
   "version": "3.8.11"
  }
 },
 "nbformat": 4,
 "nbformat_minor": 4
}
