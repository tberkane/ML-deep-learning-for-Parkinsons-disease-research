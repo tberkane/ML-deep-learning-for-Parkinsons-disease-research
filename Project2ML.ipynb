{
 "cells": [
  {
   "cell_type": "markdown",
   "metadata": {
    "cell_id": "00000-eba7b3eb-ec45-40d6-84ce-5106648a9269",
    "deepnote_cell_type": "markdown",
    "tags": []
   },
   "source": [
    "## Second Approach: Machine Learning\n",
    "Different models of classic machine learning are employed."
   ]
  },
  {
   "cell_type": "markdown",
   "metadata": {
    "cell_id": "00001-40dca528-d0f0-4835-9000-3f7a18629fef",
    "deepnote_cell_type": "markdown",
    "tags": []
   },
   "source": [
    "#### Import of libraries and dataset"
   ]
  },
  {
   "cell_type": "code",
   "execution_count": 1,
   "metadata": {
    "cell_id": "00007-b9cfc18f-95fb-43ae-a352-1b0467720b35",
    "deepnote_cell_type": "code",
    "deepnote_to_be_reexecuted": false,
    "execution_millis": 1978,
    "execution_start": 1640117910474,
    "source_hash": "41539dc6"
   },
   "outputs": [],
   "source": [
    "# import all libraries\n",
    "import numpy as np\n",
    "import pandas as pd\n",
    "import re\n",
    "\n",
    "import sklearn\n",
    "from sklearn.model_selection import train_test_split\n",
    "from sklearn.linear_model import LinearRegression, Ridge\n",
    "from sklearn.model_selection import cross_val_score\n",
    "from sklearn.model_selection import KFold\n",
    "from sklearn.model_selection import GridSearchCV"
   ]
  },
  {
   "cell_type": "code",
   "execution_count": 2,
   "metadata": {
    "cell_id": "00003-7cf8548a-f675-4dd5-992d-0480a008f542",
    "deepnote_cell_type": "code",
    "deepnote_to_be_reexecuted": false,
    "execution_millis": 2276,
    "execution_start": 1640117916155,
    "source_hash": "614f9d94",
    "tags": []
   },
   "outputs": [
    {
     "name": "stdout",
     "output_type": "stream",
     "text": [
      "(540, 133) (1170, 133) (840, 133) (710, 133) (730, 133)\n"
     ]
    }
   ],
   "source": [
    "from helpers import sample_data, load_data\n",
    "\n",
    "# load data.\n",
    "data_oligo_1 = np.delete(load_data(\"data/data-oligo/011021_SFL_SYN211_Oligo_1uM_Rawdata_270spectralcolumns.csv\"), 0, 1).T\n",
    "data_oligo_1 = data_oligo_1[data_oligo_1[:, 0] != -999, :]\n",
    "data_oligo_2 = np.delete(load_data(\"data/data-oligo/051021_SFL_SYN211_Oligo_5uM_rawdata_270spectralcolumns.csv\"), 0, 1).T\n",
    "data_oligo_2 = data_oligo_2[data_oligo_2[:, 0] != -999, :]\n",
    "\n",
    "data_oligo = np.append(data_oligo_1, data_oligo_2, axis = 0)\n",
    "\n",
    "y_oligo = np.expand_dims(np.zeros(len(data_oligo)), axis=1)\n",
    "\n",
    "data_PFF1 = np.delete(load_data(\"data/data-pff/191121_G80_AInII_SYn211_AsynPFF_5microM_rawdata_290spectracolumns.csv\"), 0, 1).T\n",
    "data_PFF1 = data_PFF1[data_PFF1[:, 0] != -999, :]\n",
    "data_PFF2 = np.delete(load_data(\"data/data-pff/220421_G80_AInII_SYn211_AsynPFF_20microM_880_spectralcolumns.csv\"), 0, 1).T\n",
    "data_PFF2 = data_PFF2[data_PFF2[:, 0] != -999, :]\n",
    "\n",
    "data_PFF =  np.append(data_PFF1, data_PFF2, axis = 0)\n",
    "\n",
    "y_PFF = np.expand_dims(np.ones(len(data_PFF)), axis=1)\n",
    "\n",
    "mix_50_50 = np.delete(load_data(\"data/data-mix/1221_G80_AI_SYn211_2uMPFF50__2uMOligo50__rawdata_840spectralcolumns.csv\"), 0, 1).T\n",
    "mix_50_50 = mix_50_50[mix_50_50[:, 0] != -999, :]\n",
    "\n",
    "y_50_50 = np.expand_dims(np.ones(len(data_PFF))*.5, axis=1)\n",
    "\n",
    "mix_75_25 = np.delete(load_data(\"data/data-mix/1221_G80_AI_SYn211_4.5uMPFF75__1.5uMOligo25__Rawdata_710spectralcolumns.csv\"), 0, 1).T\n",
    "mix_75_25 = mix_75_25[mix_75_25[:, 0] != -999, :]\n",
    "\n",
    "y_75_25 = np.expand_dims(np.ones(len(mix_75_25))*.75, axis=1)\n",
    "\n",
    "mix_25_75 = np.delete(load_data(\"data/data-mix/1221_G80_AI_SYn211_4.5uMOligo75%_1.5uMPFF25%_Rawdata_730spectralcolumns.csv\"), 0, 1).T\n",
    "mix_25_75 = mix_25_75[mix_25_75[:, 0] != -999, :]\n",
    "\n",
    "y_25_75 = np.expand_dims(np.ones(len(mix_25_75))*.25, axis=1)\n",
    "\n",
    "print(data_oligo.shape, data_PFF.shape, mix_50_50.shape, mix_75_25.shape, mix_25_75.shape)\n"
   ]
  },
  {
   "cell_type": "code",
   "execution_count": 5,
   "metadata": {
    "cell_id": "00004-7395e6ba-446d-4864-8a43-e4f8bf4f60a5",
    "deepnote_cell_type": "code",
    "deepnote_to_be_reexecuted": false,
    "execution_millis": 10,
    "execution_start": 1640117918439,
    "source_hash": "e8c58c35",
    "tags": []
   },
   "outputs": [],
   "source": [
    "#Build X and y by concatenating the different dataset (after sampling the same number of datapoints for each dataset)\n",
    "np.random.seed()\n",
    "X = np.concatenate((data_oligo, data_PFF[np.random.randint(data_PFF.shape[0], size=540),:],mix_50_50[np.random.randint(mix_50_50.shape[0], size=540),:], mix_75_25[np.random.randint(mix_75_25.shape[0], size=540),:]), axis = 0)\n",
    "y = np.concatenate((y_oligo, y_PFF[np.random.randint(y_PFF.shape[0], size=540),:],y_50_50[np.random.randint(y_50_50.shape[0], size=540),:], y_75_25[np.random.randint(y_75_25.shape[0], size=540),:]), axis = 0)\n",
    "X_train_, y_train_ = X, y\n",
    "x_test_, y_test_ = mix_25_75, y_25_75"
   ]
  },
  {
   "cell_type": "markdown",
   "metadata": {
    "cell_id": "00015-043c44a0-7daa-45dd-8efd-51cf5061442e",
    "deepnote_cell_type": "markdown",
    "tags": []
   },
   "source": [
    "### Linear regression\n",
    "Model trained on 0-100, 50-50, 75-25, 100-0 and tested on 25-75. Negative mean absolute error during 5-fold cross validation."
   ]
  },
  {
   "cell_type": "code",
   "execution_count": 6,
   "metadata": {
    "cell_id": "00009-e8574fed-4218-4cc4-8e15-23e05ed7b449",
    "deepnote_cell_type": "code",
    "deepnote_output_heights": [
     21.1875
    ],
    "deepnote_to_be_reexecuted": false,
    "execution_millis": 491,
    "execution_start": 1639501047803,
    "source_hash": "dce3eba9"
   },
   "outputs": [
    {
     "name": "stdout",
     "output_type": "stream",
     "text": [
      "Negative mean absolute error: -0.6920. iteration: 0\n",
      "Negative mean absolute error: -0.1895. iteration: 1\n",
      "Negative mean absolute error: -0.1413. iteration: 2\n",
      "Negative mean absolute error: -0.1030. iteration: 3\n",
      "Negative mean absolute error: -0.1223. iteration: 4\n"
     ]
    }
   ],
   "source": [
    "# linear regression\n",
    "lm = LinearRegression()\n",
    "scores = cross_val_score(lm, X_train_, y_train_, scoring='neg_mean_absolute_error', cv=5)\n",
    "for i in range (5):\n",
    "    print(f\"Negative mean absolute error: {scores[i]:.4f}. iteration: {i}\")"
   ]
  },
  {
   "cell_type": "code",
   "execution_count": 7,
   "metadata": {
    "cell_id": "00015-97b590c8-f10f-430a-b425-88b5b6a4b4e3",
    "deepnote_cell_type": "code",
    "deepnote_output_heights": [
     21.1875
    ],
    "deepnote_to_be_reexecuted": false,
    "execution_millis": 112,
    "execution_start": 1639501048312,
    "source_hash": "11425088",
    "tags": []
   },
   "outputs": [
    {
     "name": "stdout",
     "output_type": "stream",
     "text": [
      "Mean absolute error: 0.1364\n"
     ]
    }
   ],
   "source": [
    "lm.fit(X_train_, y_train_)\n",
    "preds = lm.predict(x_test_)\n",
    "print(f\"Mean absolute error: {sklearn.metrics.mean_absolute_error(y_test_, preds):.4f}\")"
   ]
  },
  {
   "cell_type": "markdown",
   "metadata": {
    "cell_id": "00018-531a816f-4928-41a8-979b-c294f9b33ec2",
    "deepnote_cell_type": "markdown",
    "tags": []
   },
   "source": [
    "### Ridge Regression\n",
    "Model trained on 0-100, 50-50, 75-25, 100-0 and tested on 25-75. Negative mean squared error and mean absolute error during 5-fold cross validation.\n"
   ]
  },
  {
   "cell_type": "code",
   "execution_count": 8,
   "metadata": {
    "cell_id": "00013-6ec85d8f-3cb0-495a-baeb-eef607cc3f54",
    "deepnote_cell_type": "code",
    "deepnote_output_heights": [
     40.390625
    ],
    "deepnote_to_be_reexecuted": false,
    "execution_millis": 128,
    "execution_start": 1639501048446,
    "source_hash": "2e1f7960",
    "tags": []
   },
   "outputs": [
    {
     "name": "stdout",
     "output_type": "stream",
     "text": [
      "Negative mean absolute error: -0.6914. iteration: 0\n",
      "Negative mean absolute error: -0.1916. iteration: 1\n",
      "Negative mean absolute error: -0.1418. iteration: 2\n",
      "Negative mean absolute error: -0.0970. iteration: 3\n",
      "Negative mean absolute error: -0.1159. iteration: 4\n"
     ]
    }
   ],
   "source": [
    "clf = Ridge(alpha=0.01)\n",
    "scores = cross_val_score(clf, X_train_, y_train_, scoring='neg_mean_absolute_error', cv=5)\n",
    "for i in range (5):\n",
    "    print(f\"Negative mean absolute error: {scores[i]:.4f}. iteration: {i}\")"
   ]
  },
  {
   "cell_type": "code",
   "execution_count": 9,
   "metadata": {
    "cell_id": "00018-7fa5e88d-4d24-4e53-bd0e-239901f76d80",
    "deepnote_cell_type": "code",
    "deepnote_output_heights": [
     21.1875
    ],
    "deepnote_to_be_reexecuted": false,
    "execution_millis": 1,
    "execution_start": 1639501048641,
    "source_hash": "cbba45e5",
    "tags": []
   },
   "outputs": [
    {
     "name": "stdout",
     "output_type": "stream",
     "text": [
      "Mean absolute error: 0.1200\n"
     ]
    }
   ],
   "source": [
    "clf.fit(X_train_, y_train_)\n",
    "preds = clf.predict(x_test_)\n",
    "print(f\"Mean absolute error: {sklearn.metrics.mean_absolute_error(y_test_, preds):.4f}\")"
   ]
  },
  {
   "cell_type": "markdown",
   "metadata": {
    "cell_id": "00010-2b6d3e57-cf70-4186-bd6d-1196f160c1f5",
    "deepnote_cell_type": "markdown",
    "tags": []
   },
   "source": [
    "Cross validation for Ridge Regression to optimize alpha"
   ]
  },
  {
   "cell_type": "code",
   "execution_count": 10,
   "metadata": {
    "cell_id": "00019-6a91afae-2120-476e-a61f-beac2a1cc295",
    "deepnote_cell_type": "code",
    "deepnote_output_heights": [
     null,
     117.1875
    ],
    "deepnote_to_be_reexecuted": false,
    "execution_millis": 959,
    "execution_start": 1639501048688,
    "source_hash": "e8a7a056",
    "tags": []
   },
   "outputs": [
    {
     "name": "stdout",
     "output_type": "stream",
     "text": [
      "Fitting 5 folds for each of 8 candidates, totalling 40 fits\n"
     ]
    },
    {
     "data": {
      "text/plain": [
       "GridSearchCV(cv=KFold(n_splits=5, random_state=100, shuffle=True),\n",
       "             estimator=Ridge(),\n",
       "             param_grid=[{'alpha': [0.0001, 0.001, 0.01, 0.1, 1, 10, 100,\n",
       "                                    1000]}],\n",
       "             return_train_score=True, scoring='neg_mean_absolute_error',\n",
       "             verbose=1)"
      ]
     },
     "execution_count": 10,
     "metadata": {},
     "output_type": "execute_result"
    }
   ],
   "source": [
    "# step-1: create a cross-validation scheme\n",
    "folds = KFold(n_splits = 5, shuffle = True, random_state = 100)\n",
    "\n",
    "# step-2: specify range of hyperparameters to tune\n",
    "hyper_params = [{'alpha': [10**k for k in range(-4, 4)]}]\n",
    "\n",
    "\n",
    "# step-3: perform grid search\n",
    "# 3.1 specify model\n",
    "lm = Ridge()\n",
    "lm.fit(X_train_, y_train_)\n",
    "\n",
    "# 3.2 call GridSearchCV()\n",
    "model_cv = GridSearchCV(estimator = lm, \n",
    "                        param_grid = hyper_params, \n",
    "                        scoring= 'neg_mean_absolute_error', \n",
    "                        cv = folds, \n",
    "                        verbose = 1,\n",
    "                        return_train_score=True)      \n",
    "\n",
    "# fit the model\n",
    "model_cv.fit(X_train_, y_train_)"
   ]
  },
  {
   "cell_type": "code",
   "execution_count": 11,
   "metadata": {
    "cell_id": "00020-1b0419ea-efae-4cbc-a560-bea54201dbbc",
    "deepnote_cell_type": "code",
    "deepnote_output_heights": [
     295.1875
    ],
    "deepnote_to_be_reexecuted": false,
    "execution_millis": 192,
    "execution_start": 1639501049651,
    "source_hash": "305722b3",
    "tags": []
   },
   "outputs": [
    {
     "data": {
      "text/html": [
       "<div>\n",
       "<style scoped>\n",
       "    .dataframe tbody tr th:only-of-type {\n",
       "        vertical-align: middle;\n",
       "    }\n",
       "\n",
       "    .dataframe tbody tr th {\n",
       "        vertical-align: top;\n",
       "    }\n",
       "\n",
       "    .dataframe thead th {\n",
       "        text-align: right;\n",
       "    }\n",
       "</style>\n",
       "<table border=\"1\" class=\"dataframe\">\n",
       "  <thead>\n",
       "    <tr style=\"text-align: right;\">\n",
       "      <th></th>\n",
       "      <th>mean_fit_time</th>\n",
       "      <th>std_fit_time</th>\n",
       "      <th>mean_score_time</th>\n",
       "      <th>std_score_time</th>\n",
       "      <th>param_alpha</th>\n",
       "      <th>params</th>\n",
       "      <th>split0_test_score</th>\n",
       "      <th>split1_test_score</th>\n",
       "      <th>split2_test_score</th>\n",
       "      <th>split3_test_score</th>\n",
       "      <th>...</th>\n",
       "      <th>mean_test_score</th>\n",
       "      <th>std_test_score</th>\n",
       "      <th>rank_test_score</th>\n",
       "      <th>split0_train_score</th>\n",
       "      <th>split1_train_score</th>\n",
       "      <th>split2_train_score</th>\n",
       "      <th>split3_train_score</th>\n",
       "      <th>split4_train_score</th>\n",
       "      <th>mean_train_score</th>\n",
       "      <th>std_train_score</th>\n",
       "    </tr>\n",
       "  </thead>\n",
       "  <tbody>\n",
       "    <tr>\n",
       "      <th>0</th>\n",
       "      <td>0.006134</td>\n",
       "      <td>0.001554</td>\n",
       "      <td>0.000787</td>\n",
       "      <td>0.000259</td>\n",
       "      <td>0.0001</td>\n",
       "      <td>{'alpha': 0.0001}</td>\n",
       "      <td>-0.133615</td>\n",
       "      <td>-0.136887</td>\n",
       "      <td>-0.129853</td>\n",
       "      <td>-0.137938</td>\n",
       "      <td>...</td>\n",
       "      <td>-0.133716</td>\n",
       "      <td>0.003304</td>\n",
       "      <td>3</td>\n",
       "      <td>-0.121221</td>\n",
       "      <td>-0.121474</td>\n",
       "      <td>-0.124762</td>\n",
       "      <td>-0.123045</td>\n",
       "      <td>-0.125197</td>\n",
       "      <td>-0.123140</td>\n",
       "      <td>0.001633</td>\n",
       "    </tr>\n",
       "    <tr>\n",
       "      <th>1</th>\n",
       "      <td>0.013189</td>\n",
       "      <td>0.007352</td>\n",
       "      <td>0.000717</td>\n",
       "      <td>0.000149</td>\n",
       "      <td>0.001</td>\n",
       "      <td>{'alpha': 0.001}</td>\n",
       "      <td>-0.133417</td>\n",
       "      <td>-0.136307</td>\n",
       "      <td>-0.129526</td>\n",
       "      <td>-0.137727</td>\n",
       "      <td>...</td>\n",
       "      <td>-0.133389</td>\n",
       "      <td>0.003286</td>\n",
       "      <td>2</td>\n",
       "      <td>-0.121109</td>\n",
       "      <td>-0.121256</td>\n",
       "      <td>-0.124597</td>\n",
       "      <td>-0.122872</td>\n",
       "      <td>-0.125107</td>\n",
       "      <td>-0.122988</td>\n",
       "      <td>0.001651</td>\n",
       "    </tr>\n",
       "    <tr>\n",
       "      <th>2</th>\n",
       "      <td>0.007662</td>\n",
       "      <td>0.002865</td>\n",
       "      <td>0.000790</td>\n",
       "      <td>0.000109</td>\n",
       "      <td>0.01</td>\n",
       "      <td>{'alpha': 0.01}</td>\n",
       "      <td>-0.133254</td>\n",
       "      <td>-0.135357</td>\n",
       "      <td>-0.128809</td>\n",
       "      <td>-0.138258</td>\n",
       "      <td>...</td>\n",
       "      <td>-0.133013</td>\n",
       "      <td>0.003574</td>\n",
       "      <td>1</td>\n",
       "      <td>-0.121860</td>\n",
       "      <td>-0.121425</td>\n",
       "      <td>-0.125169</td>\n",
       "      <td>-0.122955</td>\n",
       "      <td>-0.125672</td>\n",
       "      <td>-0.123416</td>\n",
       "      <td>0.001718</td>\n",
       "    </tr>\n",
       "    <tr>\n",
       "      <th>3</th>\n",
       "      <td>0.013421</td>\n",
       "      <td>0.011008</td>\n",
       "      <td>0.000789</td>\n",
       "      <td>0.000201</td>\n",
       "      <td>0.1</td>\n",
       "      <td>{'alpha': 0.1}</td>\n",
       "      <td>-0.136135</td>\n",
       "      <td>-0.138205</td>\n",
       "      <td>-0.129952</td>\n",
       "      <td>-0.140978</td>\n",
       "      <td>...</td>\n",
       "      <td>-0.135309</td>\n",
       "      <td>0.004151</td>\n",
       "      <td>4</td>\n",
       "      <td>-0.126215</td>\n",
       "      <td>-0.125814</td>\n",
       "      <td>-0.129475</td>\n",
       "      <td>-0.126889</td>\n",
       "      <td>-0.130001</td>\n",
       "      <td>-0.127679</td>\n",
       "      <td>0.001724</td>\n",
       "    </tr>\n",
       "    <tr>\n",
       "      <th>4</th>\n",
       "      <td>0.012529</td>\n",
       "      <td>0.008770</td>\n",
       "      <td>0.001160</td>\n",
       "      <td>0.000784</td>\n",
       "      <td>1</td>\n",
       "      <td>{'alpha': 1}</td>\n",
       "      <td>-0.140690</td>\n",
       "      <td>-0.143366</td>\n",
       "      <td>-0.130949</td>\n",
       "      <td>-0.143552</td>\n",
       "      <td>...</td>\n",
       "      <td>-0.138157</td>\n",
       "      <td>0.005473</td>\n",
       "      <td>5</td>\n",
       "      <td>-0.130517</td>\n",
       "      <td>-0.130408</td>\n",
       "      <td>-0.134501</td>\n",
       "      <td>-0.132207</td>\n",
       "      <td>-0.135227</td>\n",
       "      <td>-0.132572</td>\n",
       "      <td>0.001990</td>\n",
       "    </tr>\n",
       "    <tr>\n",
       "      <th>5</th>\n",
       "      <td>0.004183</td>\n",
       "      <td>0.000173</td>\n",
       "      <td>0.000698</td>\n",
       "      <td>0.000086</td>\n",
       "      <td>10</td>\n",
       "      <td>{'alpha': 10}</td>\n",
       "      <td>-0.146294</td>\n",
       "      <td>-0.150861</td>\n",
       "      <td>-0.130369</td>\n",
       "      <td>-0.144148</td>\n",
       "      <td>...</td>\n",
       "      <td>-0.140781</td>\n",
       "      <td>0.008060</td>\n",
       "      <td>6</td>\n",
       "      <td>-0.134180</td>\n",
       "      <td>-0.134659</td>\n",
       "      <td>-0.139911</td>\n",
       "      <td>-0.137742</td>\n",
       "      <td>-0.140538</td>\n",
       "      <td>-0.137406</td>\n",
       "      <td>0.002613</td>\n",
       "    </tr>\n",
       "    <tr>\n",
       "      <th>6</th>\n",
       "      <td>0.004193</td>\n",
       "      <td>0.000266</td>\n",
       "      <td>0.000653</td>\n",
       "      <td>0.000008</td>\n",
       "      <td>100</td>\n",
       "      <td>{'alpha': 100}</td>\n",
       "      <td>-0.154080</td>\n",
       "      <td>-0.160021</td>\n",
       "      <td>-0.134492</td>\n",
       "      <td>-0.149642</td>\n",
       "      <td>...</td>\n",
       "      <td>-0.147182</td>\n",
       "      <td>0.009695</td>\n",
       "      <td>7</td>\n",
       "      <td>-0.142366</td>\n",
       "      <td>-0.142415</td>\n",
       "      <td>-0.149231</td>\n",
       "      <td>-0.146443</td>\n",
       "      <td>-0.149490</td>\n",
       "      <td>-0.145989</td>\n",
       "      <td>0.003126</td>\n",
       "    </tr>\n",
       "    <tr>\n",
       "      <th>7</th>\n",
       "      <td>0.004246</td>\n",
       "      <td>0.000094</td>\n",
       "      <td>0.000771</td>\n",
       "      <td>0.000200</td>\n",
       "      <td>1000</td>\n",
       "      <td>{'alpha': 1000}</td>\n",
       "      <td>-0.171520</td>\n",
       "      <td>-0.177665</td>\n",
       "      <td>-0.152403</td>\n",
       "      <td>-0.166481</td>\n",
       "      <td>...</td>\n",
       "      <td>-0.164966</td>\n",
       "      <td>0.009292</td>\n",
       "      <td>8</td>\n",
       "      <td>-0.161093</td>\n",
       "      <td>-0.161487</td>\n",
       "      <td>-0.167704</td>\n",
       "      <td>-0.164507</td>\n",
       "      <td>-0.168351</td>\n",
       "      <td>-0.164628</td>\n",
       "      <td>0.003023</td>\n",
       "    </tr>\n",
       "  </tbody>\n",
       "</table>\n",
       "<p>8 rows × 21 columns</p>\n",
       "</div>"
      ],
      "text/plain": [
       "   mean_fit_time  std_fit_time  mean_score_time  std_score_time param_alpha  \\\n",
       "0       0.006134      0.001554         0.000787        0.000259      0.0001   \n",
       "1       0.013189      0.007352         0.000717        0.000149       0.001   \n",
       "2       0.007662      0.002865         0.000790        0.000109        0.01   \n",
       "3       0.013421      0.011008         0.000789        0.000201         0.1   \n",
       "4       0.012529      0.008770         0.001160        0.000784           1   \n",
       "5       0.004183      0.000173         0.000698        0.000086          10   \n",
       "6       0.004193      0.000266         0.000653        0.000008         100   \n",
       "7       0.004246      0.000094         0.000771        0.000200        1000   \n",
       "\n",
       "              params  split0_test_score  split1_test_score  split2_test_score  \\\n",
       "0  {'alpha': 0.0001}          -0.133615          -0.136887          -0.129853   \n",
       "1   {'alpha': 0.001}          -0.133417          -0.136307          -0.129526   \n",
       "2    {'alpha': 0.01}          -0.133254          -0.135357          -0.128809   \n",
       "3     {'alpha': 0.1}          -0.136135          -0.138205          -0.129952   \n",
       "4       {'alpha': 1}          -0.140690          -0.143366          -0.130949   \n",
       "5      {'alpha': 10}          -0.146294          -0.150861          -0.130369   \n",
       "6     {'alpha': 100}          -0.154080          -0.160021          -0.134492   \n",
       "7    {'alpha': 1000}          -0.171520          -0.177665          -0.152403   \n",
       "\n",
       "   split3_test_score  ...  mean_test_score  std_test_score  rank_test_score  \\\n",
       "0          -0.137938  ...        -0.133716        0.003304                3   \n",
       "1          -0.137727  ...        -0.133389        0.003286                2   \n",
       "2          -0.138258  ...        -0.133013        0.003574                1   \n",
       "3          -0.140978  ...        -0.135309        0.004151                4   \n",
       "4          -0.143552  ...        -0.138157        0.005473                5   \n",
       "5          -0.144148  ...        -0.140781        0.008060                6   \n",
       "6          -0.149642  ...        -0.147182        0.009695                7   \n",
       "7          -0.166481  ...        -0.164966        0.009292                8   \n",
       "\n",
       "   split0_train_score  split1_train_score  split2_train_score  \\\n",
       "0           -0.121221           -0.121474           -0.124762   \n",
       "1           -0.121109           -0.121256           -0.124597   \n",
       "2           -0.121860           -0.121425           -0.125169   \n",
       "3           -0.126215           -0.125814           -0.129475   \n",
       "4           -0.130517           -0.130408           -0.134501   \n",
       "5           -0.134180           -0.134659           -0.139911   \n",
       "6           -0.142366           -0.142415           -0.149231   \n",
       "7           -0.161093           -0.161487           -0.167704   \n",
       "\n",
       "   split3_train_score  split4_train_score  mean_train_score  std_train_score  \n",
       "0           -0.123045           -0.125197         -0.123140         0.001633  \n",
       "1           -0.122872           -0.125107         -0.122988         0.001651  \n",
       "2           -0.122955           -0.125672         -0.123416         0.001718  \n",
       "3           -0.126889           -0.130001         -0.127679         0.001724  \n",
       "4           -0.132207           -0.135227         -0.132572         0.001990  \n",
       "5           -0.137742           -0.140538         -0.137406         0.002613  \n",
       "6           -0.146443           -0.149490         -0.145989         0.003126  \n",
       "7           -0.164507           -0.168351         -0.164628         0.003023  \n",
       "\n",
       "[8 rows x 21 columns]"
      ]
     },
     "execution_count": 11,
     "metadata": {},
     "output_type": "execute_result"
    }
   ],
   "source": [
    "cv_results = pd.DataFrame(model_cv.cv_results_)\n",
    "cv_results"
   ]
  },
  {
   "cell_type": "markdown",
   "metadata": {
    "cell_id": "00023-253778b1-b658-44a4-bfd6-4f0f4de06d4d",
    "deepnote_cell_type": "markdown",
    "tags": []
   },
   "source": [
    "### Extremely randomized trees\n",
    "Model trained on 0-100, 50-50, 75-25, 100-0 and tested on 25-75.\n"
   ]
  },
  {
   "cell_type": "code",
   "execution_count": 19,
   "metadata": {
    "cell_id": "00027-12f04fbe-f76c-4f86-8570-5c9d4eccb541",
    "deepnote_cell_type": "code",
    "deepnote_to_be_reexecuted": false,
    "execution_millis": 430790,
    "execution_start": 1640118551265,
    "source_hash": "b3e510e",
    "tags": []
   },
   "outputs": [
    {
     "name": "stderr",
     "output_type": "stream",
     "text": [
      "\u001b[32m[I 2021-12-23 17:00:48,153]\u001b[0m A new study created in memory with name: no-name-0eed5b7c-469a-46b2-99cd-dc8479efc1fe\u001b[0m\n",
      "\u001b[32m[I 2021-12-23 17:00:55,651]\u001b[0m Trial 0 finished with value: -0.18148468317452532 and parameters: {'model_params/etr/n_estimators': 150, 'model_params/etr/max_depth': 11.962485438069068, 'model_params/etr/min_samples_split': 4, 'model_params/etr/max_features': 0.4, 'model_params/etr/min_samples_leaf': 3}. Best is trial 0 with value: -0.18148468317452532.\u001b[0m\n",
      "\u001b[32m[I 2021-12-23 17:00:57,690]\u001b[0m Trial 1 finished with value: -0.34550715594016923 and parameters: {'model_params/etr/n_estimators': 100, 'model_params/etr/max_depth': 2.1644612895529534, 'model_params/etr/min_samples_split': 4, 'model_params/etr/max_features': 0.2, 'model_params/etr/min_samples_leaf': 1}. Best is trial 0 with value: -0.18148468317452532.\u001b[0m\n",
      "\u001b[32m[I 2021-12-23 17:01:04,779]\u001b[0m Trial 2 finished with value: -0.22521452425088798 and parameters: {'model_params/etr/n_estimators': 300, 'model_params/etr/max_depth': 4.114296316360516, 'model_params/etr/min_samples_split': 16, 'model_params/etr/max_features': 0.2, 'model_params/etr/min_samples_leaf': 4}. Best is trial 0 with value: -0.18148468317452532.\u001b[0m\n",
      "\u001b[32m[I 2021-12-23 17:01:25,463]\u001b[0m Trial 3 finished with value: -0.2112894123388281 and parameters: {'model_params/etr/n_estimators': 500, 'model_params/etr/max_depth': 4.599981232587083, 'model_params/etr/min_samples_split': 4, 'model_params/etr/max_features': 0.4, 'model_params/etr/min_samples_leaf': 2}. Best is trial 0 with value: -0.18148468317452532.\u001b[0m\n",
      "\u001b[32m[I 2021-12-23 17:01:37,723]\u001b[0m Trial 4 finished with value: -0.18337828205151208 and parameters: {'model_params/etr/n_estimators': 400, 'model_params/etr/max_depth': 9.62670047726318, 'model_params/etr/min_samples_split': 8, 'model_params/etr/max_features': 0.2, 'model_params/etr/min_samples_leaf': 3}. Best is trial 0 with value: -0.18148468317452532.\u001b[0m\n",
      "\u001b[32m[I 2021-12-23 17:02:01,836]\u001b[0m Trial 5 finished with value: -0.17680507246400926 and parameters: {'model_params/etr/n_estimators': 200, 'model_params/etr/max_depth': 12.19080839364494, 'model_params/etr/min_samples_split': 4, 'model_params/etr/max_features': 'auto', 'model_params/etr/min_samples_leaf': 1}. Best is trial 5 with value: -0.17680507246400926.\u001b[0m\n",
      "\u001b[32m[I 2021-12-23 17:02:17,532]\u001b[0m Trial 6 finished with value: -0.18181543815178244 and parameters: {'model_params/etr/n_estimators': 300, 'model_params/etr/max_depth': 9.206354526191404, 'model_params/etr/min_samples_split': 4, 'model_params/etr/max_features': 0.4, 'model_params/etr/min_samples_leaf': 3}. Best is trial 5 with value: -0.17680507246400926.\u001b[0m\n",
      "\u001b[32m[I 2021-12-23 17:03:18,898]\u001b[0m Trial 7 finished with value: -0.18122972553421074 and parameters: {'model_params/etr/n_estimators': 500, 'model_params/etr/max_depth': 15.714732567819143, 'model_params/etr/min_samples_split': 4, 'model_params/etr/max_features': 'auto', 'model_params/etr/min_samples_leaf': 3}. Best is trial 5 with value: -0.17680507246400926.\u001b[0m\n",
      "\u001b[32m[I 2021-12-23 17:03:36,753]\u001b[0m Trial 8 finished with value: -0.17919010715532133 and parameters: {'model_params/etr/n_estimators': 150, 'model_params/etr/max_depth': 10.39838591317587, 'model_params/etr/min_samples_split': 4, 'model_params/etr/max_features': 0.8, 'model_params/etr/min_samples_leaf': 2}. Best is trial 5 with value: -0.17680507246400926.\u001b[0m\n",
      "\u001b[32m[I 2021-12-23 17:04:02,126]\u001b[0m Trial 9 finished with value: -0.18092188464506176 and parameters: {'model_params/etr/n_estimators': 200, 'model_params/etr/max_depth': 27.895867678598027, 'model_params/etr/min_samples_split': 4, 'model_params/etr/max_features': 'auto', 'model_params/etr/min_samples_leaf': 3}. Best is trial 5 with value: -0.17680507246400926.\u001b[0m\n",
      "\u001b[32m[I 2021-12-23 17:04:21,684]\u001b[0m Trial 10 finished with value: -0.17876397043104558 and parameters: {'model_params/etr/n_estimators': 200, 'model_params/etr/max_depth': 23.416971847317683, 'model_params/etr/min_samples_split': 8, 'model_params/etr/max_features': 0.6, 'model_params/etr/min_samples_leaf': 1}. Best is trial 5 with value: -0.17680507246400926.\u001b[0m\n",
      "\u001b[32m[I 2021-12-23 17:04:39,462]\u001b[0m Trial 11 finished with value: -0.17871490196483686 and parameters: {'model_params/etr/n_estimators': 200, 'model_params/etr/max_depth': 25.95241797226187, 'model_params/etr/min_samples_split': 8, 'model_params/etr/max_features': 0.6, 'model_params/etr/min_samples_leaf': 1}. Best is trial 5 with value: -0.17680507246400926.\u001b[0m\n",
      "\u001b[32m[I 2021-12-23 17:04:56,227]\u001b[0m Trial 12 finished with value: -0.17868883698795407 and parameters: {'model_params/etr/n_estimators': 200, 'model_params/etr/max_depth': 17.70106859236091, 'model_params/etr/min_samples_split': 8, 'model_params/etr/max_features': 0.6, 'model_params/etr/min_samples_leaf': 1}. Best is trial 5 with value: -0.17680507246400926.\u001b[0m\n",
      "\u001b[32m[I 2021-12-23 17:05:23,321]\u001b[0m Trial 13 finished with value: -0.1788058586998775 and parameters: {'model_params/etr/n_estimators': 200, 'model_params/etr/max_depth': 17.690692999822716, 'model_params/etr/min_samples_split': 16, 'model_params/etr/max_features': 'auto', 'model_params/etr/min_samples_leaf': 1}. Best is trial 5 with value: -0.17680507246400926.\u001b[0m\n",
      "\u001b[32m[I 2021-12-23 17:05:36,603]\u001b[0m Trial 14 finished with value: -0.18222077598863778 and parameters: {'model_params/etr/n_estimators': 200, 'model_params/etr/max_depth': 7.077290982385438, 'model_params/etr/min_samples_split': 8, 'model_params/etr/max_features': 0.6, 'model_params/etr/min_samples_leaf': 1}. Best is trial 5 with value: -0.17680507246400926.\u001b[0m\n",
      "\u001b[32m[I 2021-12-23 17:06:17,830]\u001b[0m Trial 15 finished with value: -0.18315910380158604 and parameters: {'model_params/etr/n_estimators': 400, 'model_params/etr/max_depth': 15.746986678214844, 'model_params/etr/min_samples_split': 8, 'model_params/etr/max_features': 0.8, 'model_params/etr/min_samples_leaf': 4}. Best is trial 5 with value: -0.17680507246400926.\u001b[0m\n",
      "\u001b[32m[I 2021-12-23 17:06:23,348]\u001b[0m Trial 16 finished with value: -0.1915849258554664 and parameters: {'model_params/etr/n_estimators': 100, 'model_params/etr/max_depth': 5.8003842381672195, 'model_params/etr/min_samples_split': 16, 'model_params/etr/max_features': 0.6, 'model_params/etr/min_samples_leaf': 1}. Best is trial 5 with value: -0.17680507246400926.\u001b[0m\n",
      "\u001b[32m[I 2021-12-23 17:06:52,812]\u001b[0m Trial 17 finished with value: -0.17764376866377554 and parameters: {'model_params/etr/n_estimators': 200, 'model_params/etr/max_depth': 20.384619696624362, 'model_params/etr/min_samples_split': 8, 'model_params/etr/max_features': 'auto', 'model_params/etr/min_samples_leaf': 1}. Best is trial 5 with value: -0.17680507246400926.\u001b[0m\n",
      "\u001b[32m[I 2021-12-23 17:07:20,031]\u001b[0m Trial 18 finished with value: -0.17778634406794838 and parameters: {'model_params/etr/n_estimators': 200, 'model_params/etr/max_depth': 13.044754706326293, 'model_params/etr/min_samples_split': 8, 'model_params/etr/max_features': 'auto', 'model_params/etr/min_samples_leaf': 1}. Best is trial 5 with value: -0.17680507246400926.\u001b[0m\n",
      "\u001b[32m[I 2021-12-23 17:07:44,935]\u001b[0m Trial 19 finished with value: -0.18145526743703827 and parameters: {'model_params/etr/n_estimators': 200, 'model_params/etr/max_depth': 31.90250238937055, 'model_params/etr/min_samples_split': 16, 'model_params/etr/max_features': 'auto', 'model_params/etr/min_samples_leaf': 2}. Best is trial 5 with value: -0.17680507246400926.\u001b[0m\n",
      "\u001b[32m[I 2021-12-23 17:08:02,136]\u001b[0m Trial 20 finished with value: -0.1819229488168724 and parameters: {'model_params/etr/n_estimators': 150, 'model_params/etr/max_depth': 21.565140259225046, 'model_params/etr/min_samples_split': 8, 'model_params/etr/max_features': 'auto', 'model_params/etr/min_samples_leaf': 4}. Best is trial 5 with value: -0.17680507246400926.\u001b[0m\n",
      "\u001b[32m[I 2021-12-23 17:08:25,945]\u001b[0m Trial 21 finished with value: -0.17778634406794838 and parameters: {'model_params/etr/n_estimators': 200, 'model_params/etr/max_depth': 13.42897971170094, 'model_params/etr/min_samples_split': 8, 'model_params/etr/max_features': 'auto', 'model_params/etr/min_samples_leaf': 1}. Best is trial 5 with value: -0.17680507246400926.\u001b[0m\n",
      "\u001b[32m[I 2021-12-23 17:08:51,280]\u001b[0m Trial 22 finished with value: -0.17756132582129672 and parameters: {'model_params/etr/n_estimators': 200, 'model_params/etr/max_depth': 12.46067773665938, 'model_params/etr/min_samples_split': 8, 'model_params/etr/max_features': 'auto', 'model_params/etr/min_samples_leaf': 1}. Best is trial 5 with value: -0.17680507246400926.\u001b[0m\n",
      "\u001b[32m[I 2021-12-23 17:09:12,335]\u001b[0m Trial 23 finished with value: -0.18056327537553457 and parameters: {'model_params/etr/n_estimators': 200, 'model_params/etr/max_depth': 7.715950689060745, 'model_params/etr/min_samples_split': 8, 'model_params/etr/max_features': 'auto', 'model_params/etr/min_samples_leaf': 1}. Best is trial 5 with value: -0.17680507246400926.\u001b[0m\n",
      "\u001b[32m[I 2021-12-23 17:09:40,919]\u001b[0m Trial 24 finished with value: -0.177671475493216 and parameters: {'model_params/etr/n_estimators': 200, 'model_params/etr/max_depth': 21.45131098363244, 'model_params/etr/min_samples_split': 8, 'model_params/etr/max_features': 'auto', 'model_params/etr/min_samples_leaf': 1}. Best is trial 5 with value: -0.17680507246400926.\u001b[0m\n",
      "\u001b[32m[I 2021-12-23 17:10:40,242]\u001b[0m Trial 25 finished with value: -0.17756681097886454 and parameters: {'model_params/etr/n_estimators': 500, 'model_params/etr/max_depth': 11.623502984552777, 'model_params/etr/min_samples_split': 4, 'model_params/etr/max_features': 'auto', 'model_params/etr/min_samples_leaf': 1}. Best is trial 5 with value: -0.17680507246400926.\u001b[0m\n",
      "\u001b[32m[I 2021-12-23 17:11:20,579]\u001b[0m Trial 26 finished with value: -0.1835637133800881 and parameters: {'model_params/etr/n_estimators': 500, 'model_params/etr/max_depth': 6.442401225935523, 'model_params/etr/min_samples_split': 4, 'model_params/etr/max_features': 0.8, 'model_params/etr/min_samples_leaf': 1}. Best is trial 5 with value: -0.17680507246400926.\u001b[0m\n",
      "\u001b[32m[I 2021-12-23 17:12:19,239]\u001b[0m Trial 27 finished with value: -0.17756681097886454 and parameters: {'model_params/etr/n_estimators': 500, 'model_params/etr/max_depth': 11.360243511893266, 'model_params/etr/min_samples_split': 4, 'model_params/etr/max_features': 'auto', 'model_params/etr/min_samples_leaf': 1}. Best is trial 5 with value: -0.17680507246400926.\u001b[0m\n",
      "\u001b[32m[I 2021-12-23 17:13:12,874]\u001b[0m Trial 28 finished with value: -0.18026284096308448 and parameters: {'model_params/etr/n_estimators': 500, 'model_params/etr/max_depth': 8.562053782833944, 'model_params/etr/min_samples_split': 4, 'model_params/etr/max_features': 'auto', 'model_params/etr/min_samples_leaf': 2}. Best is trial 5 with value: -0.17680507246400926.\u001b[0m\n",
      "\u001b[32m[I 2021-12-23 17:13:32,306]\u001b[0m Trial 29 finished with value: -0.18257683424502272 and parameters: {'model_params/etr/n_estimators': 300, 'model_params/etr/max_depth': 12.3486086411976, 'model_params/etr/min_samples_split': 4, 'model_params/etr/max_features': 0.4, 'model_params/etr/min_samples_leaf': 4}. Best is trial 5 with value: -0.17680507246400926.\u001b[0m\n",
      "\u001b[32m[I 2021-12-23 17:13:39,771]\u001b[0m Trial 30 finished with value: -0.19946341357597466 and parameters: {'model_params/etr/n_estimators': 100, 'model_params/etr/max_depth': 4.463573445470236, 'model_params/etr/min_samples_split': 4, 'model_params/etr/max_features': 'auto', 'model_params/etr/min_samples_leaf': 1}. Best is trial 5 with value: -0.17680507246400926.\u001b[0m\n",
      "\u001b[32m[I 2021-12-23 17:14:39,682]\u001b[0m Trial 31 finished with value: -0.17756681097886454 and parameters: {'model_params/etr/n_estimators': 500, 'model_params/etr/max_depth': 11.597382841149708, 'model_params/etr/min_samples_split': 4, 'model_params/etr/max_features': 'auto', 'model_params/etr/min_samples_leaf': 1}. Best is trial 5 with value: -0.17680507246400926.\u001b[0m\n",
      "\u001b[32m[I 2021-12-23 17:15:40,494]\u001b[0m Trial 32 finished with value: -0.17743538923939248 and parameters: {'model_params/etr/n_estimators': 500, 'model_params/etr/max_depth': 10.271291912499997, 'model_params/etr/min_samples_split': 4, 'model_params/etr/max_features': 'auto', 'model_params/etr/min_samples_leaf': 1}. Best is trial 5 with value: -0.17680507246400926.\u001b[0m\n",
      "\u001b[32m[I 2021-12-23 17:15:50,658]\u001b[0m Trial 33 finished with value: -0.34705827183269955 and parameters: {'model_params/etr/n_estimators': 500, 'model_params/etr/max_depth': 2.294008312870047, 'model_params/etr/min_samples_split': 4, 'model_params/etr/max_features': 0.2, 'model_params/etr/min_samples_leaf': 1}. Best is trial 5 with value: -0.17680507246400926.\u001b[0m\n",
      "\u001b[32m[I 2021-12-23 17:16:55,176]\u001b[0m Trial 34 finished with value: -0.1773448165493275 and parameters: {'model_params/etr/n_estimators': 500, 'model_params/etr/max_depth': 14.575923490727009, 'model_params/etr/min_samples_split': 4, 'model_params/etr/max_features': 'auto', 'model_params/etr/min_samples_leaf': 1}. Best is trial 5 with value: -0.17680507246400926.\u001b[0m\n",
      "\u001b[32m[I 2021-12-23 17:17:13,017]\u001b[0m Trial 35 finished with value: -0.1778241819788227 and parameters: {'model_params/etr/n_estimators': 400, 'model_params/etr/max_depth': 14.017775758293226, 'model_params/etr/min_samples_split': 4, 'model_params/etr/max_features': 0.2, 'model_params/etr/min_samples_leaf': 1}. Best is trial 5 with value: -0.17680507246400926.\u001b[0m\n",
      "\u001b[32m[I 2021-12-23 17:17:20,410]\u001b[0m Trial 36 finished with value: -0.18258052138044734 and parameters: {'model_params/etr/n_estimators': 150, 'model_params/etr/max_depth': 9.577493026768094, 'model_params/etr/min_samples_split': 4, 'model_params/etr/max_features': 0.4, 'model_params/etr/min_samples_leaf': 4}. Best is trial 5 with value: -0.17680507246400926.\u001b[0m\n",
      "\u001b[32m[I 2021-12-23 17:18:04,448]\u001b[0m Trial 37 finished with value: -0.190133350523007 and parameters: {'model_params/etr/n_estimators': 500, 'model_params/etr/max_depth': 5.4149270050978, 'model_params/etr/min_samples_split': 16, 'model_params/etr/max_features': 'auto', 'model_params/etr/min_samples_leaf': 3}. Best is trial 5 with value: -0.17680507246400926.\u001b[0m\n",
      "\u001b[32m[I 2021-12-23 17:18:25,180]\u001b[0m Trial 38 finished with value: -0.2701146859032433 and parameters: {'model_params/etr/n_estimators': 300, 'model_params/etr/max_depth': 3.159461058880578, 'model_params/etr/min_samples_split': 4, 'model_params/etr/max_features': 'auto', 'model_params/etr/min_samples_leaf': 2}. Best is trial 5 with value: -0.17680507246400926.\u001b[0m\n",
      "\u001b[32m[I 2021-12-23 17:18:36,470]\u001b[0m Trial 39 finished with value: -0.1777134138846491 and parameters: {'model_params/etr/n_estimators': 100, 'model_params/etr/max_depth': 15.814547633295806, 'model_params/etr/min_samples_split': 4, 'model_params/etr/max_features': 0.8, 'model_params/etr/min_samples_leaf': 1}. Best is trial 5 with value: -0.17680507246400926.\u001b[0m\n",
      "\u001b[32m[I 2021-12-23 17:18:56,274]\u001b[0m Trial 40 finished with value: -0.18308931714201462 and parameters: {'model_params/etr/n_estimators': 500, 'model_params/etr/max_depth': 9.99662306067469, 'model_params/etr/min_samples_split': 4, 'model_params/etr/max_features': 0.2, 'model_params/etr/min_samples_leaf': 3}. Best is trial 5 with value: -0.17680507246400926.\u001b[0m\n",
      "\u001b[32m[I 2021-12-23 17:19:48,097]\u001b[0m Trial 41 finished with value: -0.17895432646690482 and parameters: {'model_params/etr/n_estimators': 500, 'model_params/etr/max_depth': 8.174681499827445, 'model_params/etr/min_samples_split': 4, 'model_params/etr/max_features': 'auto', 'model_params/etr/min_samples_leaf': 1}. Best is trial 5 with value: -0.17680507246400926.\u001b[0m\n",
      "\u001b[32m[I 2021-12-23 17:20:50,397]\u001b[0m Trial 42 finished with value: -0.17756681097886454 and parameters: {'model_params/etr/n_estimators': 500, 'model_params/etr/max_depth': 11.40754799685177, 'model_params/etr/min_samples_split': 4, 'model_params/etr/max_features': 'auto', 'model_params/etr/min_samples_leaf': 1}. Best is trial 5 with value: -0.17680507246400926.\u001b[0m\n",
      "\u001b[32m[I 2021-12-23 17:21:57,687]\u001b[0m Trial 43 finished with value: -0.1773448165493275 and parameters: {'model_params/etr/n_estimators': 500, 'model_params/etr/max_depth': 14.244585167603539, 'model_params/etr/min_samples_split': 4, 'model_params/etr/max_features': 'auto', 'model_params/etr/min_samples_leaf': 1}. Best is trial 5 with value: -0.17680507246400926.\u001b[0m\n",
      "\u001b[32m[I 2021-12-23 17:23:07,162]\u001b[0m Trial 44 finished with value: -0.17775718477896274 and parameters: {'model_params/etr/n_estimators': 500, 'model_params/etr/max_depth': 17.870218325182304, 'model_params/etr/min_samples_split': 4, 'model_params/etr/max_features': 'auto', 'model_params/etr/min_samples_leaf': 1}. Best is trial 5 with value: -0.17680507246400926.\u001b[0m\n",
      "\u001b[32m[I 2021-12-23 17:23:33,465]\u001b[0m Trial 45 finished with value: -0.17774076181065637 and parameters: {'model_params/etr/n_estimators': 400, 'model_params/etr/max_depth': 14.56047339692654, 'model_params/etr/min_samples_split': 4, 'model_params/etr/max_features': 0.4, 'model_params/etr/min_samples_leaf': 1}. Best is trial 5 with value: -0.17680507246400926.\u001b[0m\n",
      "\u001b[32m[I 2021-12-23 17:24:07,991]\u001b[0m Trial 46 finished with value: -0.17705390465411122 and parameters: {'model_params/etr/n_estimators': 300, 'model_params/etr/max_depth': 10.529071719338363, 'model_params/etr/min_samples_split': 4, 'model_params/etr/max_features': 'auto', 'model_params/etr/min_samples_leaf': 1}. Best is trial 5 with value: -0.17680507246400926.\u001b[0m\n",
      "\u001b[32m[I 2021-12-23 17:24:43,722]\u001b[0m Trial 47 finished with value: -0.18045267030241946 and parameters: {'model_params/etr/n_estimators': 300, 'model_params/etr/max_depth': 10.047284387528686, 'model_params/etr/min_samples_split': 4, 'model_params/etr/max_features': 'auto', 'model_params/etr/min_samples_leaf': 3}. Best is trial 5 with value: -0.17680507246400926.\u001b[0m\n",
      "\u001b[32m[I 2021-12-23 17:25:25,254]\u001b[0m Trial 48 finished with value: -0.1767834950951083 and parameters: {'model_params/etr/n_estimators': 300, 'model_params/etr/max_depth': 15.936867043544014, 'model_params/etr/min_samples_split': 4, 'model_params/etr/max_features': 'auto', 'model_params/etr/min_samples_leaf': 1}. Best is trial 48 with value: -0.1767834950951083.\u001b[0m\n",
      "\u001b[32m[I 2021-12-23 17:25:59,787]\u001b[0m Trial 49 finished with value: -0.17938085858732244 and parameters: {'model_params/etr/n_estimators': 300, 'model_params/etr/max_depth': 17.643596015436106, 'model_params/etr/min_samples_split': 4, 'model_params/etr/max_features': 0.8, 'model_params/etr/min_samples_leaf': 2}. Best is trial 48 with value: -0.1767834950951083.\u001b[0m\n",
      "\u001b[32m[I 2021-12-23 17:26:26,742]\u001b[0m Trial 50 finished with value: -0.18046252328267992 and parameters: {'model_params/etr/n_estimators': 300, 'model_params/etr/max_depth': 19.43271368539028, 'model_params/etr/min_samples_split': 16, 'model_params/etr/max_features': 0.6, 'model_params/etr/min_samples_leaf': 1}. Best is trial 48 with value: -0.1767834950951083.\u001b[0m\n",
      "\u001b[32m[I 2021-12-23 17:26:53,450]\u001b[0m Trial 51 finished with value: -0.1767834950951083 and parameters: {'model_params/etr/n_estimators': 300, 'model_params/etr/max_depth': 15.044480489859016, 'model_params/etr/min_samples_split': 4, 'model_params/etr/max_features': 'auto', 'model_params/etr/min_samples_leaf': 1}. Best is trial 48 with value: -0.1767834950951083.\u001b[0m\n",
      "\u001b[32m[I 2021-12-23 17:27:10,682]\u001b[0m Trial 52 finished with value: -0.17677449112424662 and parameters: {'model_params/etr/n_estimators': 300, 'model_params/etr/max_depth': 14.750427375994112, 'model_params/etr/min_samples_split': 4, 'model_params/etr/max_features': 'auto', 'model_params/etr/min_samples_leaf': 1}. Best is trial 52 with value: -0.17677449112424662.\u001b[0m\n",
      "\u001b[32m[I 2021-12-23 17:27:27,765]\u001b[0m Trial 53 finished with value: -0.1773998842592593 and parameters: {'model_params/etr/n_estimators': 300, 'model_params/etr/max_depth': 25.124197808163345, 'model_params/etr/min_samples_split': 4, 'model_params/etr/max_features': 'auto', 'model_params/etr/min_samples_leaf': 1}. Best is trial 52 with value: -0.17677449112424662.\u001b[0m\n",
      "\u001b[32m[I 2021-12-23 17:27:45,206]\u001b[0m Trial 54 finished with value: -0.17738719774051145 and parameters: {'model_params/etr/n_estimators': 300, 'model_params/etr/max_depth': 17.223947541917784, 'model_params/etr/min_samples_split': 4, 'model_params/etr/max_features': 'auto', 'model_params/etr/min_samples_leaf': 1}. Best is trial 52 with value: -0.17677449112424662.\u001b[0m\n",
      "\u001b[32m[I 2021-12-23 17:28:02,037]\u001b[0m Trial 55 finished with value: -0.1767834950951083 and parameters: {'model_params/etr/n_estimators': 300, 'model_params/etr/max_depth': 15.1510050941417, 'model_params/etr/min_samples_split': 4, 'model_params/etr/max_features': 'auto', 'model_params/etr/min_samples_leaf': 1}. Best is trial 52 with value: -0.17677449112424662.\u001b[0m\n",
      "\u001b[32m[I 2021-12-23 17:28:16,715]\u001b[0m Trial 56 finished with value: -0.18210627272375315 and parameters: {'model_params/etr/n_estimators': 300, 'model_params/etr/max_depth': 16.041506977676136, 'model_params/etr/min_samples_split': 4, 'model_params/etr/max_features': 'auto', 'model_params/etr/min_samples_leaf': 4}. Best is trial 52 with value: -0.17677449112424662.\u001b[0m\n",
      "\u001b[32m[I 2021-12-23 17:28:50,440]\u001b[0m Trial 57 finished with value: -0.17860933123937064 and parameters: {'model_params/etr/n_estimators': 300, 'model_params/etr/max_depth': 8.724860335721258, 'model_params/etr/min_samples_split': 4, 'model_params/etr/max_features': 'auto', 'model_params/etr/min_samples_leaf': 1}. Best is trial 52 with value: -0.17677449112424662.\u001b[0m\n",
      "\u001b[32m[I 2021-12-23 17:29:13,968]\u001b[0m Trial 58 finished with value: -0.18041746218327365 and parameters: {'model_params/etr/n_estimators': 300, 'model_params/etr/max_depth': 22.949004068757702, 'model_params/etr/min_samples_split': 16, 'model_params/etr/max_features': 0.6, 'model_params/etr/min_samples_leaf': 1}. Best is trial 52 with value: -0.17677449112424662.\u001b[0m\n",
      "\u001b[32m[I 2021-12-23 17:29:24,915]\u001b[0m Trial 59 finished with value: -0.1779692013951343 and parameters: {'model_params/etr/n_estimators': 300, 'model_params/etr/max_depth': 19.824164061526503, 'model_params/etr/min_samples_split': 4, 'model_params/etr/max_features': 0.2, 'model_params/etr/min_samples_leaf': 1}. Best is trial 52 with value: -0.17677449112424662.\u001b[0m\n",
      "\u001b[32m[I 2021-12-23 17:29:54,924]\u001b[0m Trial 60 finished with value: -0.18220118318092135 and parameters: {'model_params/etr/n_estimators': 300, 'model_params/etr/max_depth': 7.19542655029871, 'model_params/etr/min_samples_split': 4, 'model_params/etr/max_features': 'auto', 'model_params/etr/min_samples_leaf': 3}. Best is trial 52 with value: -0.17677449112424662.\u001b[0m\n",
      "\u001b[32m[I 2021-12-23 17:30:31,301]\u001b[0m Trial 61 finished with value: -0.17722893295530734 and parameters: {'model_params/etr/n_estimators': 300, 'model_params/etr/max_depth': 13.501812282096077, 'model_params/etr/min_samples_split': 4, 'model_params/etr/max_features': 'auto', 'model_params/etr/min_samples_leaf': 1}. Best is trial 52 with value: -0.17677449112424662.\u001b[0m\n",
      "\u001b[32m[I 2021-12-23 17:31:05,550]\u001b[0m Trial 62 finished with value: -0.17690536481686409 and parameters: {'model_params/etr/n_estimators': 300, 'model_params/etr/max_depth': 12.888953962228456, 'model_params/etr/min_samples_split': 4, 'model_params/etr/max_features': 'auto', 'model_params/etr/min_samples_leaf': 1}. Best is trial 52 with value: -0.17677449112424662.\u001b[0m\n",
      "\u001b[32m[I 2021-12-23 17:31:42,600]\u001b[0m Trial 63 finished with value: -0.17705390465411122 and parameters: {'model_params/etr/n_estimators': 300, 'model_params/etr/max_depth': 10.841865319913358, 'model_params/etr/min_samples_split': 4, 'model_params/etr/max_features': 'auto', 'model_params/etr/min_samples_leaf': 1}. Best is trial 52 with value: -0.17677449112424662.\u001b[0m\n",
      "\u001b[32m[I 2021-12-23 17:32:18,372]\u001b[0m Trial 64 finished with value: -0.17690536481686409 and parameters: {'model_params/etr/n_estimators': 300, 'model_params/etr/max_depth': 12.301170661258755, 'model_params/etr/min_samples_split': 4, 'model_params/etr/max_features': 'auto', 'model_params/etr/min_samples_leaf': 1}. Best is trial 52 with value: -0.17677449112424662.\u001b[0m\n",
      "\u001b[32m[I 2021-12-23 17:32:57,324]\u001b[0m Trial 65 finished with value: -0.17690536481686409 and parameters: {'model_params/etr/n_estimators': 300, 'model_params/etr/max_depth': 12.687455964917092, 'model_params/etr/min_samples_split': 4, 'model_params/etr/max_features': 'auto', 'model_params/etr/min_samples_leaf': 1}. Best is trial 52 with value: -0.17677449112424662.\u001b[0m\n",
      "\u001b[32m[I 2021-12-23 17:33:15,944]\u001b[0m Trial 66 finished with value: -0.17645652662899364 and parameters: {'model_params/etr/n_estimators': 150, 'model_params/etr/max_depth': 16.117697780196107, 'model_params/etr/min_samples_split': 4, 'model_params/etr/max_features': 'auto', 'model_params/etr/min_samples_leaf': 1}. Best is trial 66 with value: -0.17645652662899364.\u001b[0m\n",
      "\u001b[32m[I 2021-12-23 17:33:24,892]\u001b[0m Trial 67 finished with value: -0.17917214657342592 and parameters: {'model_params/etr/n_estimators': 150, 'model_params/etr/max_depth': 16.452848007778226, 'model_params/etr/min_samples_split': 4, 'model_params/etr/max_features': 0.4, 'model_params/etr/min_samples_leaf': 2}. Best is trial 66 with value: -0.17645652662899364.\u001b[0m\n",
      "\u001b[32m[I 2021-12-23 17:33:46,964]\u001b[0m Trial 68 finished with value: -0.1785900810470652 and parameters: {'model_params/etr/n_estimators': 150, 'model_params/etr/max_depth': 19.180995080019425, 'model_params/etr/min_samples_split': 16, 'model_params/etr/max_features': 'auto', 'model_params/etr/min_samples_leaf': 1}. Best is trial 66 with value: -0.17645652662899364.\u001b[0m\n",
      "\u001b[32m[I 2021-12-23 17:34:02,282]\u001b[0m Trial 69 finished with value: -0.17699069369185766 and parameters: {'model_params/etr/n_estimators': 150, 'model_params/etr/max_depth': 18.575606094126123, 'model_params/etr/min_samples_split': 4, 'model_params/etr/max_features': 0.8, 'model_params/etr/min_samples_leaf': 1}. Best is trial 66 with value: -0.17645652662899364.\u001b[0m\n",
      "\u001b[32m[I 2021-12-23 17:34:21,935]\u001b[0m Trial 70 finished with value: -0.1760854975876373 and parameters: {'model_params/etr/n_estimators': 150, 'model_params/etr/max_depth': 14.900114543823705, 'model_params/etr/min_samples_split': 4, 'model_params/etr/max_features': 'auto', 'model_params/etr/min_samples_leaf': 1}. Best is trial 70 with value: -0.1760854975876373.\u001b[0m\n",
      "\u001b[32m[I 2021-12-23 17:34:42,214]\u001b[0m Trial 71 finished with value: -0.1760854975876373 and parameters: {'model_params/etr/n_estimators': 150, 'model_params/etr/max_depth': 14.721904951495402, 'model_params/etr/min_samples_split': 4, 'model_params/etr/max_features': 'auto', 'model_params/etr/min_samples_leaf': 1}. Best is trial 70 with value: -0.1760854975876373.\u001b[0m\n",
      "\u001b[32m[I 2021-12-23 17:35:03,313]\u001b[0m Trial 72 finished with value: -0.1760854975876373 and parameters: {'model_params/etr/n_estimators': 150, 'model_params/etr/max_depth': 14.978834262087604, 'model_params/etr/min_samples_split': 4, 'model_params/etr/max_features': 'auto', 'model_params/etr/min_samples_leaf': 1}. Best is trial 70 with value: -0.1760854975876373.\u001b[0m\n",
      "\u001b[32m[I 2021-12-23 17:35:28,229]\u001b[0m Trial 73 finished with value: -0.1763233185339385 and parameters: {'model_params/etr/n_estimators': 150, 'model_params/etr/max_depth': 15.42591850146731, 'model_params/etr/min_samples_split': 4, 'model_params/etr/max_features': 'auto', 'model_params/etr/min_samples_leaf': 1}. Best is trial 70 with value: -0.1760854975876373.\u001b[0m\n",
      "\u001b[32m[I 2021-12-23 17:35:48,155]\u001b[0m Trial 74 finished with value: -0.18193939199529172 and parameters: {'model_params/etr/n_estimators': 150, 'model_params/etr/max_depth': 20.81955525681858, 'model_params/etr/min_samples_split': 4, 'model_params/etr/max_features': 'auto', 'model_params/etr/min_samples_leaf': 4}. Best is trial 70 with value: -0.1760854975876373.\u001b[0m\n",
      "\u001b[32m[I 2021-12-23 17:36:11,671]\u001b[0m Trial 75 finished with value: -0.1769284979423868 and parameters: {'model_params/etr/n_estimators': 150, 'model_params/etr/max_depth': 27.329158248625284, 'model_params/etr/min_samples_split': 4, 'model_params/etr/max_features': 'auto', 'model_params/etr/min_samples_leaf': 1}. Best is trial 70 with value: -0.1760854975876373.\u001b[0m\n",
      "\u001b[32m[I 2021-12-23 17:36:34,559]\u001b[0m Trial 76 finished with value: -0.17645652662899364 and parameters: {'model_params/etr/n_estimators': 150, 'model_params/etr/max_depth': 16.462463316999294, 'model_params/etr/min_samples_split': 4, 'model_params/etr/max_features': 'auto', 'model_params/etr/min_samples_leaf': 1}. Best is trial 70 with value: -0.1760854975876373.\u001b[0m\n",
      "\u001b[32m[I 2021-12-23 17:36:56,642]\u001b[0m Trial 77 finished with value: -0.17693167009602193 and parameters: {'model_params/etr/n_estimators': 150, 'model_params/etr/max_depth': 23.620230496106167, 'model_params/etr/min_samples_split': 4, 'model_params/etr/max_features': 'auto', 'model_params/etr/min_samples_leaf': 1}. Best is trial 70 with value: -0.1760854975876373.\u001b[0m\n",
      "\u001b[32m[I 2021-12-23 17:37:09,118]\u001b[0m Trial 78 finished with value: -0.17802724749622312 and parameters: {'model_params/etr/n_estimators': 150, 'model_params/etr/max_depth': 15.042054892401861, 'model_params/etr/min_samples_split': 4, 'model_params/etr/max_features': 0.6, 'model_params/etr/min_samples_leaf': 1}. Best is trial 70 with value: -0.1760854975876373.\u001b[0m\n",
      "\u001b[32m[I 2021-12-23 17:37:28,745]\u001b[0m Trial 79 finished with value: -0.17645652662899364 and parameters: {'model_params/etr/n_estimators': 150, 'model_params/etr/max_depth': 16.591803600615716, 'model_params/etr/min_samples_split': 4, 'model_params/etr/max_features': 'auto', 'model_params/etr/min_samples_leaf': 1}. Best is trial 70 with value: -0.1760854975876373.\u001b[0m\n",
      "\u001b[32m[I 2021-12-23 17:37:35,183]\u001b[0m Trial 80 finished with value: -0.17844811315207737 and parameters: {'model_params/etr/n_estimators': 150, 'model_params/etr/max_depth': 16.45235733290423, 'model_params/etr/min_samples_split': 8, 'model_params/etr/max_features': 0.2, 'model_params/etr/min_samples_leaf': 1}. Best is trial 70 with value: -0.1760854975876373.\u001b[0m\n",
      "\u001b[32m[I 2021-12-23 17:37:59,744]\u001b[0m Trial 81 finished with value: -0.1760854975876373 and parameters: {'model_params/etr/n_estimators': 150, 'model_params/etr/max_depth': 14.050189186246913, 'model_params/etr/min_samples_split': 4, 'model_params/etr/max_features': 'auto', 'model_params/etr/min_samples_leaf': 1}. Best is trial 70 with value: -0.1760854975876373.\u001b[0m\n",
      "\u001b[32m[I 2021-12-23 17:38:27,248]\u001b[0m Trial 82 finished with value: -0.17626950092912383 and parameters: {'model_params/etr/n_estimators': 150, 'model_params/etr/max_depth': 13.798691400539886, 'model_params/etr/min_samples_split': 4, 'model_params/etr/max_features': 'auto', 'model_params/etr/min_samples_leaf': 1}. Best is trial 70 with value: -0.1760854975876373.\u001b[0m\n",
      "\u001b[32m[I 2021-12-23 17:38:48,639]\u001b[0m Trial 83 finished with value: -0.17626950092912383 and parameters: {'model_params/etr/n_estimators': 150, 'model_params/etr/max_depth': 13.144857135772519, 'model_params/etr/min_samples_split': 4, 'model_params/etr/max_features': 'auto', 'model_params/etr/min_samples_leaf': 1}. Best is trial 70 with value: -0.1760854975876373.\u001b[0m\n",
      "\u001b[32m[I 2021-12-23 17:39:09,118]\u001b[0m Trial 84 finished with value: -0.17626950092912383 and parameters: {'model_params/etr/n_estimators': 150, 'model_params/etr/max_depth': 13.566851501997638, 'model_params/etr/min_samples_split': 4, 'model_params/etr/max_features': 'auto', 'model_params/etr/min_samples_leaf': 1}. Best is trial 70 with value: -0.1760854975876373.\u001b[0m\n",
      "\u001b[32m[I 2021-12-23 17:39:29,352]\u001b[0m Trial 85 finished with value: -0.1760854975876373 and parameters: {'model_params/etr/n_estimators': 150, 'model_params/etr/max_depth': 14.070100337328565, 'model_params/etr/min_samples_split': 4, 'model_params/etr/max_features': 'auto', 'model_params/etr/min_samples_leaf': 1}. Best is trial 70 with value: -0.1760854975876373.\u001b[0m\n",
      "\u001b[32m[I 2021-12-23 17:39:51,353]\u001b[0m Trial 86 finished with value: -0.17849961132590603 and parameters: {'model_params/etr/n_estimators': 150, 'model_params/etr/max_depth': 13.647506782165761, 'model_params/etr/min_samples_split': 4, 'model_params/etr/max_features': 'auto', 'model_params/etr/min_samples_leaf': 2}. Best is trial 70 with value: -0.1760854975876373.\u001b[0m\n",
      "\u001b[32m[I 2021-12-23 17:39:59,969]\u001b[0m Trial 87 finished with value: -0.18152677725620955 and parameters: {'model_params/etr/n_estimators': 150, 'model_params/etr/max_depth': 10.999895561661383, 'model_params/etr/min_samples_split': 4, 'model_params/etr/max_features': 0.4, 'model_params/etr/min_samples_leaf': 3}. Best is trial 70 with value: -0.1760854975876373.\u001b[0m\n",
      "\u001b[32m[I 2021-12-23 17:40:21,677]\u001b[0m Trial 88 finished with value: -0.1769239326792642 and parameters: {'model_params/etr/n_estimators': 150, 'model_params/etr/max_depth': 11.898114050161887, 'model_params/etr/min_samples_split': 4, 'model_params/etr/max_features': 'auto', 'model_params/etr/min_samples_leaf': 1}. Best is trial 70 with value: -0.1760854975876373.\u001b[0m\n",
      "\u001b[32m[I 2021-12-23 17:40:39,946]\u001b[0m Trial 89 finished with value: -0.18303407756472626 and parameters: {'model_params/etr/n_estimators': 150, 'model_params/etr/max_depth': 13.91060674469774, 'model_params/etr/min_samples_split': 16, 'model_params/etr/max_features': 'auto', 'model_params/etr/min_samples_leaf': 4}. Best is trial 70 with value: -0.1760854975876373.\u001b[0m\n",
      "\u001b[32m[I 2021-12-23 17:41:00,853]\u001b[0m Trial 90 finished with value: -0.17626950092912383 and parameters: {'model_params/etr/n_estimators': 150, 'model_params/etr/max_depth': 13.269369554977754, 'model_params/etr/min_samples_split': 4, 'model_params/etr/max_features': 'auto', 'model_params/etr/min_samples_leaf': 1}. Best is trial 70 with value: -0.1760854975876373.\u001b[0m\n",
      "\u001b[32m[I 2021-12-23 17:41:19,443]\u001b[0m Trial 91 finished with value: -0.17626950092912383 and parameters: {'model_params/etr/n_estimators': 150, 'model_params/etr/max_depth': 13.133338847188401, 'model_params/etr/min_samples_split': 4, 'model_params/etr/max_features': 'auto', 'model_params/etr/min_samples_leaf': 1}. Best is trial 70 with value: -0.1760854975876373.\u001b[0m\n",
      "\u001b[32m[I 2021-12-23 17:41:36,778]\u001b[0m Trial 92 finished with value: -0.1765998393970319 and parameters: {'model_params/etr/n_estimators': 150, 'model_params/etr/max_depth': 12.42023182743906, 'model_params/etr/min_samples_split': 4, 'model_params/etr/max_features': 'auto', 'model_params/etr/min_samples_leaf': 1}. Best is trial 70 with value: -0.1760854975876373.\u001b[0m\n",
      "\u001b[32m[I 2021-12-23 17:41:54,471]\u001b[0m Trial 93 finished with value: -0.17761474080429565 and parameters: {'model_params/etr/n_estimators': 150, 'model_params/etr/max_depth': 9.220930146031156, 'model_params/etr/min_samples_split': 4, 'model_params/etr/max_features': 'auto', 'model_params/etr/min_samples_leaf': 1}. Best is trial 70 with value: -0.1760854975876373.\u001b[0m\n",
      "\u001b[32m[I 2021-12-23 17:42:00,928]\u001b[0m Trial 94 finished with value: -0.17674307912273352 and parameters: {'model_params/etr/n_estimators': 150, 'model_params/etr/max_depth': 12.993465918506379, 'model_params/etr/min_samples_split': 4, 'model_params/etr/max_features': 0.8, 'model_params/etr/min_samples_leaf': 1}. Best is trial 70 with value: -0.1760854975876373.\u001b[0m\n",
      "\u001b[32m[I 2021-12-23 17:42:08,079]\u001b[0m Trial 95 finished with value: -0.17626950092912383 and parameters: {'model_params/etr/n_estimators': 150, 'model_params/etr/max_depth': 13.4108532134618, 'model_params/etr/min_samples_split': 4, 'model_params/etr/max_features': 'auto', 'model_params/etr/min_samples_leaf': 1}. Best is trial 70 with value: -0.1760854975876373.\u001b[0m\n",
      "\u001b[32m[I 2021-12-23 17:42:17,535]\u001b[0m Trial 96 finished with value: -0.17769077898174443 and parameters: {'model_params/etr/n_estimators': 100, 'model_params/etr/max_depth': 11.728501408630203, 'model_params/etr/min_samples_split': 4, 'model_params/etr/max_features': 'auto', 'model_params/etr/min_samples_leaf': 1}. Best is trial 70 with value: -0.1760854975876373.\u001b[0m\n",
      "\u001b[32m[I 2021-12-23 17:42:24,939]\u001b[0m Trial 97 finished with value: -0.17749357762236556 and parameters: {'model_params/etr/n_estimators': 150, 'model_params/etr/max_depth': 18.21152414316193, 'model_params/etr/min_samples_split': 8, 'model_params/etr/max_features': 'auto', 'model_params/etr/min_samples_leaf': 1}. Best is trial 70 with value: -0.1760854975876373.\u001b[0m\n",
      "\u001b[32m[I 2021-12-23 17:42:31,955]\u001b[0m Trial 98 finished with value: -0.1760854975876373 and parameters: {'model_params/etr/n_estimators': 150, 'model_params/etr/max_depth': 14.312489756391532, 'model_params/etr/min_samples_split': 4, 'model_params/etr/max_features': 'auto', 'model_params/etr/min_samples_leaf': 1}. Best is trial 70 with value: -0.1760854975876373.\u001b[0m\n",
      "\u001b[32m[I 2021-12-23 17:42:48,696]\u001b[0m Trial 99 finished with value: -0.17703328341604435 and parameters: {'model_params/etr/n_estimators': 400, 'model_params/etr/max_depth': 14.277960888399784, 'model_params/etr/min_samples_split': 4, 'model_params/etr/max_features': 'auto', 'model_params/etr/min_samples_leaf': 1}. Best is trial 70 with value: -0.1760854975876373.\u001b[0m\n"
     ]
    }
   ],
   "source": [
    "import optuna\n",
    "\n",
    "def objective(trial):\n",
    "    # parameters to optimize\n",
    "    a = trial.suggest_categorical(\"model_params/etr/n_estimators\", [100, 150, 200, 300, 400, 500])\n",
    "    b = trial.suggest_loguniform(\"model_params/etr/max_depth\", 2, 32)\n",
    "    c = trial.suggest_categorical(\"model_params/etr/min_samples_split\", [4, 8, 16])\n",
    "    d = trial.suggest_categorical(\"model_params/etr/max_features\", ['auto', 0.2, 0.4, 0.6, 0.8])\n",
    "    e = trial.suggest_categorical(\"model_params/etr/min_samples_leaf\", [1, 2, 3, 4])\n",
    "\n",
    "    reg = ExtraTreesRegressor(n_estimators=a, max_depth=b, min_samples_split=c, max_features=d, min_samples_leaf=e, random_state=0)\n",
    "    return cross_val_score(reg, X_train_, y_train_.ravel(), cv=5, scoring='neg_mean_absolute_error').mean()\n",
    "\n",
    "study = optuna.create_study(direction='maximize')\n",
    "# run param optimization with optuna\n",
    "study.optimize(objective, n_trials=100)"
   ]
  },
  {
   "cell_type": "code",
   "execution_count": 20,
   "metadata": {
    "cell_id": "00018-1a48b323-92aa-46b4-a31e-5aba5a5970bb",
    "deepnote_cell_type": "code",
    "deepnote_to_be_reexecuted": false,
    "execution_millis": 40879,
    "execution_start": 1640119174745,
    "source_hash": "bf77daa2",
    "tags": []
   },
   "outputs": [
    {
     "name": "stdout",
     "output_type": "stream",
     "text": [
      "Mean absolute error: 0.2783\n"
     ]
    }
   ],
   "source": [
    "# ERT with best parameters\n",
    "reg = ExtraTreesRegressor(n_estimators=400, max_depth=14.27, min_samples_split=4, max_features='auto', min_samples_leaf=1, random_state=0).fit(X_train_, y_train_.ravel())\n",
    "preds = reg.predict(x_test_)\n",
    "print(f\"Mean absolute error: {sklearn.metrics.mean_absolute_error(y_test_, preds):.4f}\")\n"
   ]
  },
  {
   "cell_type": "code",
   "execution_count": null,
   "metadata": {
    "cell_id": "00018-c1fad2d9-8304-47b4-a96a-9c9a41d20ba8",
    "deepnote_cell_type": "code",
    "tags": []
   },
   "outputs": [],
   "source": []
  }
 ],
 "metadata": {
  "deepnote": {},
  "deepnote_execution_queue": [],
  "deepnote_notebook_id": "4d85f1db-0630-45f4-95de-5476d20179b9",
  "kernelspec": {
   "display_name": "Python 3 (ipykernel)",
   "language": "python",
   "name": "python3"
  },
  "language_info": {
   "codemirror_mode": {
    "name": "ipython",
    "version": 3
   },
   "file_extension": ".py",
   "mimetype": "text/x-python",
   "name": "python",
   "nbconvert_exporter": "python",
   "pygments_lexer": "ipython3",
   "version": "3.8.11"
  }
 },
 "nbformat": 4,
 "nbformat_minor": 4
}
